{
 "cells": [
  {
   "cell_type": "markdown",
   "metadata": {},
   "source": [
    "Regular Expressions\n",
    "-------------------\n",
    "\n",
    "Regular expressions (regexes or re’s) constitute an extremely powerful, flexible and concise language for matching elements in text ranging from a few characters to complex patterns. While mastering the syntax of the regular expression language does require climbing a learning curve, this learning curve is not particularly steep, and a newcomer can find herself performing useful tasks with regular expressions almost immediately. Efforts spent learning regular expressions quickly pay off--tasks that are well suited for regular expressions abound. Indeed, regular expressions are one of the most useful computer skills, and an absolutely critical tool for data scientists. "
   ]
  },
  {
   "cell_type": "markdown",
   "metadata": {},
   "source": [
    "This document will present basic regular expression syntax and cover common use cases for regular expressions: pattern matching, filtering, data extraction, and string replacement. We will present examples using grep, which we covered previously. (In case you forgot, we used grep to find lines of a text file with a given string in them.) "
   ]
  },
  {
   "cell_type": "code",
   "execution_count": null,
   "metadata": {},
   "outputs": [],
   "source": [
    "# The code below is written in Python to replicate the behavior of grep, the UNIX utility\n",
    "# We will examine the details of how the code works in a subsequent notebook.\n",
    "# For now, just execute the code, and use the function grep(regex_expression, file_name) as-is\n",
    "\n",
    "import re\n",
    "\n",
    "def printMatches(text, regex_expression):\n",
    "    BACKGROUND_YELLOW = '\\x1b[43m'\n",
    "    COLOR_RESET  = \"\\x1b[0m\"\n",
    "    regex= re.compile(regex_expression)\n",
    "    matches = regex.finditer(text)\n",
    "    for m in matches:\n",
    "        highlighted  = text[:m.start()] # the string before the regex match\n",
    "        highlighted += BACKGROUND_YELLOW + text[m.start():m.end()] + COLOR_RESET \n",
    "        highlighted += text[m.end():] # the string after the regex match\n",
    "        print(highlighted)\n",
    "\n",
    "def grep(regex_expression, file_name):\n",
    "    f = open(file_name, \"r\")\n",
    "    content = f.read()\n",
    "    f.close()\n",
    "    for line in content.split(\"\\n\"):\n",
    "        printMatches(line, regex_expression)"
   ]
  },
  {
   "cell_type": "markdown",
   "metadata": {},
   "source": [
    "### NYC Restaurant Names Data\n",
    "\n",
    "To have a longer data set to play with, let's download the list of restaurant names from the NYC Restaurant Inspection Dataset."
   ]
  },
  {
   "cell_type": "code",
   "execution_count": null,
   "metadata": {},
   "outputs": [],
   "source": [
    "!cp /home/ubuntu/jupyter/NYU_Notes/2-Introduction_to_Python/data/restaurant-names.txt data/uniquenames.txt"
   ]
  },
  {
   "cell_type": "markdown",
   "metadata": {},
   "source": [
    "Let's take a peek at the contents using the `head` and `tail` commands:"
   ]
  },
  {
   "cell_type": "code",
   "execution_count": null,
   "metadata": {},
   "outputs": [],
   "source": [
    "!head -10 data/uniquenames.txt\n",
    "!echo '........' # The \"echo\" command just prints in the output the string that follows the command (in this case \"......\")\n",
    "!tail -10 data/uniquenames.txt"
   ]
  },
  {
   "cell_type": "markdown",
   "metadata": {},
   "source": [
    "Now, let's see if there are any restaurants with the string 'PANO' in them:"
   ]
  },
  {
   "cell_type": "code",
   "execution_count": null,
   "metadata": {},
   "outputs": [],
   "source": [
    "grep('PANO', \"data/uniquenames.txt\")"
   ]
  },
  {
   "cell_type": "markdown",
   "metadata": {},
   "source": [
    "What can we do if we want to search for something more complex than a fixed string? Regular expressions are solving exactly this problem. \n",
    "\n",
    "### The atoms\n",
    "\n",
    "The simplest regular expressions are a sequence of `atoms`. An atom can be any of the following:\n",
    "* single character, \n",
    "* a dot,\n",
    "* a bracket expression, \n",
    "* an anchor.\n",
    "\n",
    "#### Single character atom\n",
    "\n",
    "A single character atom matches itself.\n",
    "\n",
    "#### The `.` character atom\n",
    "\n",
    "A dot atom matches any single character (except for a new line character `\\n`)."
   ]
  },
  {
   "cell_type": "markdown",
   "metadata": {},
   "source": [
    "Example: Using single character atoms, and the `.` atom, let's find all restaurant names that contain the characters `AB`, followed by any character (`.`) and then the character `D`:"
   ]
  },
  {
   "cell_type": "code",
   "execution_count": null,
   "metadata": {},
   "outputs": [],
   "source": [
    "grep('AB.D', 'data/uniquenames.txt')"
   ]
  },
  {
   "cell_type": "code",
   "execution_count": null,
   "metadata": {},
   "outputs": [],
   "source": [
    "grep('A.B.C', 'data/uniquenames.txt')"
   ]
  },
  {
   "cell_type": "code",
   "execution_count": null,
   "metadata": {},
   "outputs": [],
   "source": [
    "grep('Z.Z.Z', 'data/uniquenames.txt')"
   ]
  },
  {
   "cell_type": "markdown",
   "metadata": {},
   "source": [
    "#### Bracket expression atom\n",
    "\n",
    "A bracket expression (defined by square brackets []) defines a set of characters. matches only one single character that can be any of the characters defined in a set. Example: [ABL] matches either A, B, or L.\n",
    "\n",
    "Now, let's use a bracket expression: We want to find restaurants that contain one of the letters A,B,C,X,Y,Z followed by a digit. We specify the set of letters as `[ABCXYZ]` and the set of digits as [0123456789].  "
   ]
  },
  {
   "cell_type": "code",
   "execution_count": null,
   "metadata": {},
   "outputs": [],
   "source": [
    "grep('[ABCXYZ][0123456789][0123456789]', 'data/uniquenames.txt')"
   ]
  },
  {
   "cell_type": "markdown",
   "metadata": {},
   "source": [
    "##### Brackets and ranges\n",
    "\n",
    "Instead of typing long lists of characters in a bracket expression, we can use the range character: [0-9] is equivalent to [0123456789]. Similarly [A-Z] is equivalent to [ABCDEFGHIJKLMNOPQRSTUVWXYZ]. And [D-T] is equivalent to [DEFGHIJKLMNOPQRST]. (You get the idea.) You can also combine multiple ranges: [a-e1-9] is equivalent to [abcde123456789]. Finally, you can even specify to be excluded from the set using the character (^). For example, [^0-9] matches any character other than a number.\n",
    "\n",
    "For example, let's find restaurants that contain a letter, followed by a number, and then followed by a charather that is not a number:"
   ]
  },
  {
   "cell_type": "code",
   "execution_count": null,
   "metadata": {},
   "outputs": [],
   "source": [
    "grep('[A-Z][0-9][^0-9]', 'data/uniquenames.txt')"
   ]
  },
  {
   "cell_type": "markdown",
   "metadata": {},
   "source": [
    "Hm, we do not want to get results that have a space after the number, so let's also exclude the space character:"
   ]
  },
  {
   "cell_type": "code",
   "execution_count": null,
   "metadata": {},
   "outputs": [],
   "source": [
    "grep('[A-Z][0-9][^0-9 ]', 'data/uniquenames.txt') "
   ]
  },
  {
   "cell_type": "code",
   "execution_count": null,
   "metadata": {},
   "outputs": [],
   "source": [
    "# Digit, not letter not digit not space, digit\n",
    "grep('[0-9][^A-Z0-9 ][0-9]', 'data/uniquenames.txt') "
   ]
  },
  {
   "cell_type": "code",
   "execution_count": null,
   "metadata": {},
   "outputs": [],
   "source": [
    "# Restaurants with five digits\n",
    "grep('[0-9][0-9][0-9][0-9][0-9]', 'data/uniquenames.txt') "
   ]
  },
  {
   "cell_type": "markdown",
   "metadata": {},
   "source": [
    "#### Anchor\n",
    "\n",
    "Anchor atoms are used to define the location of a regex within a line. \n",
    "\n",
    "The anchor `^` specifies the *beginning of a line*, the anchor `$` specifies the end of a line. The anchor `\\b` specifies the word boundary."
   ]
  },
  {
   "cell_type": "markdown",
   "metadata": {},
   "source": [
    "Example: Find restaurant names that start with the characters `BAL`"
   ]
  },
  {
   "cell_type": "code",
   "execution_count": null,
   "metadata": {},
   "outputs": [],
   "source": [
    "grep('^BAL', 'data/uniquenames.txt')"
   ]
  },
  {
   "cell_type": "markdown",
   "metadata": {},
   "source": [
    "Example: Find restaurant names that end with the characters `NORTH`"
   ]
  },
  {
   "cell_type": "code",
   "execution_count": null,
   "metadata": {},
   "outputs": [],
   "source": [
    "grep('NORTH$', 'data/uniquenames.txt')"
   ]
  },
  {
   "cell_type": "code",
   "execution_count": null,
   "metadata": {},
   "outputs": [],
   "source": [
    "# All restaurants that end with 4 digits\n",
    "grep('[0-9][0-9][0-9][0-9]$', 'data/uniquenames.txt')"
   ]
  },
  {
   "cell_type": "markdown",
   "metadata": {},
   "source": [
    "Example: Let's try to find restaurants containing the word `COLUMBIA`:"
   ]
  },
  {
   "cell_type": "code",
   "execution_count": null,
   "metadata": {},
   "outputs": [],
   "source": [
    "grep(' COLUMBIA ', 'data/uniquenames.txt')"
   ]
  },
  {
   "cell_type": "code",
   "execution_count": null,
   "metadata": {},
   "outputs": [],
   "source": [
    "# Notice that adding space is not sufficient\n",
    "grep(' COLUMBIA ', 'data/uniquenames.txt')"
   ]
  },
  {
   "cell_type": "markdown",
   "metadata": {},
   "source": [
    "Hm, something is wrong. We also get COLUMBIANO, COLUMBIANAS, and other words. We want only the word COLUMBIA, so we add the word anchors:"
   ]
  },
  {
   "cell_type": "code",
   "execution_count": null,
   "metadata": {},
   "outputs": [],
   "source": [
    "# The r'....' is a \"raw\" string, and allows us to enter\n",
    "# backslash without having to \"escape\" the backslash.\n",
    "# Otherwise Python will interpret \\b as a single special\n",
    "# character, and not as two characters \\b that are part of the regex\n",
    "grep(r'\\bCOLUMBIA\\b', 'data/uniquenames.txt')"
   ]
  },
  {
   "cell_type": "markdown",
   "metadata": {},
   "source": [
    "#### In class exercises\n",
    "\n",
    "Write a regular expression for:\n",
    "\n",
    "* Match any character\n",
    "* Match the end of line\n",
    "* Match any digit\n",
    "* Find all characters that are not digits\n",
    "* Find all words with four letters\n",
    "* Find every line that starts with a digit\n",
    "* Find all empty lines\n",
    "* Find all lines with 4 characters\n"
   ]
  },
  {
   "cell_type": "markdown",
   "metadata": {},
   "source": [
    "### Regular Expressions: Operators\n",
    "\n",
    "#### Alternation |\n",
    "\n",
    "The alternation operator `|` defines one or more alternatives regular expressions that need to be true for the string to match the regular expression. \n",
    "\n",
    "For example, if we are looking for names that contain either the word `GREEK` or the word `RUSSIAN`, we issue the following command: "
   ]
  },
  {
   "cell_type": "code",
   "execution_count": null,
   "metadata": {},
   "outputs": [],
   "source": [
    "grep('GREEK|RUSSIAN|FRENCH', 'data/uniquenames.txt')"
   ]
  },
  {
   "cell_type": "markdown",
   "metadata": {},
   "source": [
    "#### Repetition {m,n}\n",
    "\n",
    "A repetition operator specifies that the atom or expression immediately before the repetition may be repeated. For example, if we are looking for restaurants that contain the letter I, three to five times:  "
   ]
  },
  {
   "cell_type": "code",
   "execution_count": null,
   "metadata": {},
   "outputs": [],
   "source": [
    "grep('I{3,5}', 'data/uniquenames.txt')"
   ]
  },
  {
   "cell_type": "markdown",
   "metadata": {},
   "source": [
    "Now, let's find all the restaurants that have a name length from 50 to 55 characters:"
   ]
  },
  {
   "cell_type": "code",
   "execution_count": null,
   "metadata": {},
   "outputs": [],
   "source": [
    "grep('^.{50,55}$', 'data/uniquenames.txt')"
   ]
  },
  {
   "cell_type": "markdown",
   "metadata": {},
   "source": [
    "In the repetition operator {m,n}, we can skip putting the upper limit if we want to say, \"anything with m matches and above\". For example, let's find all the restaurants that have a name length 60 characters and above:"
   ]
  },
  {
   "cell_type": "code",
   "execution_count": null,
   "metadata": {},
   "outputs": [],
   "source": [
    "grep('^.{60,}$', 'data/uniquenames.txt')"
   ]
  },
  {
   "cell_type": "markdown",
   "metadata": {},
   "source": [
    "##### Repetition shortcuts (very common!): \n",
    "\n",
    "* `* = {0,}`. The `*` character means match the previous atom zero or more times\n",
    "* `+ = {1,}`. The `+` character means match the previous atom one or more times\n",
    "* `? = {0,1}`. The `*` character means match the previous atom zero or one times\n",
    "\n",
    "\n",
    "\n",
    "\n"
   ]
  },
  {
   "cell_type": "markdown",
   "metadata": {},
   "source": [
    "Find all restaurants that start with one or more digits, followed by a space."
   ]
  },
  {
   "cell_type": "code",
   "execution_count": null,
   "metadata": {},
   "outputs": [],
   "source": [
    "grep('^[0-9]+ ', 'data/uniquenames.txt')"
   ]
  },
  {
   "cell_type": "markdown",
   "metadata": {},
   "source": [
    "Find all restaurants that start with a letter, followed by one or more digits, followed by a space."
   ]
  },
  {
   "cell_type": "code",
   "execution_count": null,
   "metadata": {},
   "outputs": [],
   "source": [
    "grep('^[A-Z][0-9]+ ', 'data/uniquenames.txt')"
   ]
  },
  {
   "cell_type": "code",
   "execution_count": null,
   "metadata": {},
   "outputs": [],
   "source": [
    "# Find all restaurants\n",
    "# Beggining with one or more letters // $[A-Z]+\n",
    "# followed by one or more digits // [0-9]+\n",
    "# Followed by any number of charaters // .*\n",
    "# and ending with BAR  // BAR$\n",
    "grep('^[A-Z]+[0-9]+.*BAR$', 'data/uniquenames.txt')"
   ]
  },
  {
   "cell_type": "markdown",
   "metadata": {},
   "source": [
    "Find all restaurants that start with the word STARBUCKS, followed by any number of characters, and then have a digit."
   ]
  },
  {
   "cell_type": "code",
   "execution_count": null,
   "metadata": {},
   "outputs": [],
   "source": [
    "grep('STARBUCKS.*[0-9]+', 'data/uniquenames.txt')"
   ]
  },
  {
   "cell_type": "markdown",
   "metadata": {},
   "source": [
    "#### Grouping ()\n",
    "\n",
    "In the group operator, when a group of characters is enclosed in parentheses, the next operator applies to the whole group, not only the previous characters. For example, find all restaurant names that contain BA two times or more:"
   ]
  },
  {
   "cell_type": "code",
   "execution_count": null,
   "metadata": {},
   "outputs": [],
   "source": [
    "grep(r'(BA){2}', 'data/uniquenames.txt')"
   ]
  },
  {
   "cell_type": "markdown",
   "metadata": {},
   "source": [
    "#### In class exercices\n",
    "\n",
    "What do these regular expressions match?\n",
    "\n",
    "* b (cd)*\n",
    "* h (d)+\n",
    "* j? k+\n",
    "* (cd){2,5}\n",
    "* o(pre){3,}\n",
    "* Panos|Ipeirotis\n",
    "\n",
    "#### In class exercises (advanced)\n",
    "\n",
    "Write down the regular expressions for the following:\n",
    "\n",
    "* A telephone number (e.g, 212-555-0921)\n",
    "* A zip+4 code (e.g, 10012-1809)\n",
    "* For matching a float number (e.g., +12.34 or -1.457 or 1023.4568)\n",
    "* Dollar amount with optional cents  (e.g. \\$0.33, \\$784)\n",
    "* Time of Day (e.g. 12:15am, 3:34pm)\n",
    "* Match urls  only of the form http://www.alphanumeric.com\n",
    "* Match an email of the form username@domain (assume  that the domain might be in the form alphanumeric.alphanumeric, or alphanumeric.alphanumeric.alphanumeric)   \n",
    "\n"
   ]
  },
  {
   "cell_type": "markdown",
   "metadata": {},
   "source": [
    "### Backreferences\n",
    "\n",
    "Sometimes it is handy to be able to refer to a match that was made earlier in a regex. This is done with backreferences. `\\k` is the backreference specifier, where `k` is a number, which refers to the `k`-th regular expression *that was enclosed in parenthesis*.\n",
    "\n",
    "For example, find if the first character(s) of a line are the same as the last:\n"
   ]
  },
  {
   "cell_type": "code",
   "execution_count": null,
   "metadata": {},
   "outputs": [],
   "source": [
    "grep(r'^(.{3,}).*\\1$', 'data/uniquenames.txt')"
   ]
  },
  {
   "cell_type": "markdown",
   "metadata": {},
   "source": [
    "Or find all the restaurant names that the first 5 characters (or more) are identical to the last characters."
   ]
  },
  {
   "cell_type": "code",
   "execution_count": null,
   "metadata": {},
   "outputs": [],
   "source": [
    "grep(r'^([A-Z]+)\\1$', 'data/uniquenames.txt')"
   ]
  },
  {
   "cell_type": "markdown",
   "metadata": {},
   "source": [
    "Find all names that have three consecutive same digits"
   ]
  },
  {
   "cell_type": "code",
   "execution_count": null,
   "metadata": {},
   "outputs": [],
   "source": [
    "grep(r'([0-9])\\1\\1', 'data/uniquenames.txt')"
   ]
  },
  {
   "cell_type": "markdown",
   "metadata": {},
   "source": [
    "As we are going to see, these backreferences will also be of tremendous use for extraction purposes."
   ]
  },
  {
   "cell_type": "markdown",
   "metadata": {},
   "source": [
    "#### In class exercise (advanced)\n",
    "\n",
    "Say that you have a file with telephone numbers written in a variety of forms: \n",
    "\n",
    "* 679-397-5255\n",
    "* 2126660921\n",
    "* 212-998-0902\n",
    "* 888-888-2222\n",
    "* 800-555-1211\n",
    "* 800 555 1212\n",
    "* 800.555.1213\n",
    "* (800) 555-1214\n",
    "* 1-800-555-1215\n",
    "* 1(800)555-1216\n",
    "* 800-555-1212-1234\n",
    "* 800-555-1212x1234\n",
    "* 800-555-1212 ext. 1234\n",
    "* work 1-(800) 555.1212 #1234\n",
    "\n",
    "The task is to standardize everything in the form (xxx)-xxx-xxx.\n"
   ]
  },
  {
   "cell_type": "markdown",
   "metadata": {},
   "source": [
    "To make the process interactive, go to http://regex101.com/?#python, copy and paste the numbers above in the textarea called \"Text String\", and then try to write the regular expression above. (As a side note, the website provides excellent explanations about the meaning of the regular expression that you write down.) Remember to put the \"g\" character in the small textfield next to the regex: this has the same meaning as in sed, and it means \"find globally\" the regex, not just the first occurence."
   ]
  },
  {
   "cell_type": "markdown",
   "metadata": {},
   "source": [
    "\n",
    "If you manage to deal with that task, consider the case of also having international country calling codes (e.g., +1 for US, +44 for UK, +7 for Russia, +30 for Greece, +354 for Iceland etc), and also standardizing the extensions."
   ]
  },
  {
   "cell_type": "markdown",
   "metadata": {},
   "source": [
    "### Additional Regex Resources\n",
    "\n",
    "* [Visual Regular Expression Tester](http://www.debuggex.com/?flavor=pcre)\n",
    "* [Test Python Regular Expressions Online](http://www.pyregex.com/)\n",
    "* [Regular Expressions 101](http://regex101.com/?)\n",
    "* [Python's re Library Official Documentation](http://docs.python.org/2/library/re.html)\n",
    "* [Regular expression reference at W3schools](http://www.w3schools.com/jsref/jsref_obj_regexp.asp)\n",
    "* [Parsing phone numbers using Python and regular expressions](http://www.diveintopython.net/regular_expressions/phone_numbers.html)"
   ]
  },
  {
   "cell_type": "markdown",
   "metadata": {},
   "source": [
    "### Additional Regular Expressions\n",
    "\n",
    "While we have not used these before, they are commonly used shortcuts to simplify the construction of regular expressions:\n",
    "\n",
    "* `\\d`: matches the digits, 0-9.\n",
    "* `\\D`: matches anything but `\\d`.\n",
    "* `\\w`: matches any alphanumeric character plus underscore: `[A-Za-z0-9_]`.\n",
    "* `\\W`: matches anything but `\\w`.\n",
    "* `\\s`: matches any \"whitespace\" character (space, tab, newline, etc): `[ \\t\\n\\r\\f\\v]`.\n",
    "* `\\S`: matches anything but `\\s`.\n",
    "* `\\b`: matches the breaks between alphanumeric and non-alphanumeric characters (an empty string), the boundary between `\\w` and `\\W`. Useful for ensuring that what you match is actually a word.\n",
    "* `\\B`: matches anything but `\\b`. Useful for ensuring your match is in the middle of a word.\n",
    "\n",
    "And the ones below get a little bit more advanced:\n",
    "\n",
    "* `*?`, `+?`: ordinarily, `*`, `+` and `?` are greedy, matching the longest possible string that satisfies the regular expression. Adding the `?` to any of these makes it non-greedy, instead matching the shortest possible expression. \n",
    "* `(?: )`: A non-capturing group. This works just as `()`, but doesn’t hold on to the matched contents.\n",
    "* `(?<=x)`: Matches any string that is preceded by x (an arbitrary regular expression).\n"
   ]
  },
  {
   "cell_type": "code",
   "execution_count": null,
   "metadata": {},
   "outputs": [],
   "source": []
  }
 ],
 "metadata": {
  "kernelspec": {
   "display_name": "Python 3",
   "language": "python",
   "name": "python3"
  },
  "language_info": {
   "codemirror_mode": {
    "name": "ipython",
    "version": 3
   },
   "file_extension": ".py",
   "mimetype": "text/x-python",
   "name": "python",
   "nbconvert_exporter": "python",
   "pygments_lexer": "ipython3",
   "version": "3.5.2"
  }
 },
 "nbformat": 4,
 "nbformat_minor": 1
}
