<<<<<<< Updated upstream
{
 "cells": [
  {
   "cell_type": "markdown",
   "metadata": {},
   "source": [
    "# Dealing with text and Naive Bayes\n",
    "\n",
    "Spring 2018 - Prof. Foster Provost\n",
    "\n",
    "Assistant Teacher: Nicholas Garcia\n",
    "\n",
    "***\n",
    "\n"
   ]
  },
  {
   "cell_type": "markdown",
   "metadata": {},
   "source": [
    "Read in some packages."
   ]
  },
  {
   "cell_type": "code",
   "execution_count": 1,
   "metadata": {},
   "outputs": [],
   "source": [
    "# Import the libraries we will be using\n",
    "import numpy as np\n",
    "import pandas as pd\n",
    "from sklearn.linear_model import LogisticRegression\n",
    "from sklearn import metrics\n",
    "from sklearn.model_selection import train_test_split\n",
    "from sklearn.feature_extraction.text import CountVectorizer\n",
    "from sklearn.feature_extraction.text import TfidfVectorizer\n",
    "\n",
    "import matplotlib.pylab as plt\n",
    "%matplotlib inline\n",
    "plt.rcParams['figure.figsize'] = 10, 8\n",
    "\n",
    "np.random.seed(36)\n",
    "\n",
    "# We will want to keep track of some different roc curves, lets do that here\n",
    "tprs = []\n",
    "fprs = []\n",
    "roc_labels = []\n"
   ]
  },
  {
   "cell_type": "markdown",
   "metadata": {},
   "source": [
    "### Data\n",
    "For this class, we have a new data set in `data/spam_ham.csv`. Let's take a look at what it contains.\n",
    "\n",
    "Let's remember how to use the terminal (UNIX) commands for quick queries."
   ]
  },
  {
   "cell_type": "code",
   "execution_count": 2,
   "metadata": {},
   "outputs": [
    {
     "name": "stdout",
     "output_type": "stream",
     "text": [
      "text,spam\r",
      "\r\n",
      "'Hi...I have to use R to find out the 90\\% confidence-interval for the sensitivityand specificity of the following diagnostic test:A particular diagnostic test for multiple sclerosis was conducted on 20 MSpatients and 20 healthy subjects, 6 MS patients were classified as healthyand 8 healthy subjects were classified as suffering from the MS.Furthermore, I need to find the number of MS patients required for asensitivity of 1\\%...Is there a simple R-command which can do that for me?I am completely new to R...Help please!Jochen-- View this message in context: http://www.nabble.com/Confidence-Intervals....-help...-tf3544217.html#a9894014Sent from the R help mailing list archive at Nabble.com.______________________________________________R-help@stat.math.ethz.ch mailing listhttps://stat.ethz.ch/mailman/listinfo/r-helpPLEASE do read the posting guide http://www.R-project.org/posting-guide.html',ham\r",
      "\r\n"
     ]
    }
   ],
   "source": [
    "!head -2 data/spam_ham.csv"
   ]
  },
  {
   "cell_type": "code",
   "execution_count": 3,
   "metadata": {},
   "outputs": [
    {
     "name": "stdout",
     "output_type": "stream",
     "text": [
      "text,spam\r",
      "\r\n",
      "'Hi...I have to use R to find out the 90\\% confidence-interval for the sensitivityand specificity of the following diagnostic test:A particular diagnostic test for multiple sclerosis was conducted on 20 MSpatients and 20 healthy subjects, 6 MS patients were classified as healthyand 8 healthy subjects were classified as suffering from the MS.Furthermore, I need to find the number of MS patients required for asensitivity of 1\\%...Is there a simple R-command which can do that for me?I am completely new to R...Help please!Jochen-- View this message in context: http://www.nabble.com/Confidence-Intervals....-help...-tf3544217.html#a9894014Sent from the R help mailing list archive at Nabble.com.______________________________________________R-help@stat.math.ethz.ch mailing listhttps://stat.ethz.ch/mailman/listinfo/r-helpPLEASE do read the posting guide http://www.R-project.org/posting-guide.html',ham\r",
      "\r\n",
      "'Francesco Poli wrote:> On Sun, 15 Apr 2007 21:24:00 +0200 Arnoud Engelfriet wrote:> > The sign [X] (hereafter \\\"the Mark\\\") is a trademark, rights to which> > are held by [Y], representing [Z] if applicable (hereafter \\\"the> > Mark Holder\\\").> > Wait, the \\\"Mark Holder\\\" would be [Y], I think.I thought you used Y and Z for cases where Y is licensing Z\\'strademark (if Y is Z\\'s subsidiary or authorized licensee for example).Then the trademark holder is Z but Y has certain rights to the mark.The \\\"if applicable\\\" means if there is a Z. Perhaps the whole Z thingshould be taken out. \\\"Rights to which are held by Y\\\", and in thedocument where you define Y you can explain that Y is a subsidiaryof Z or whatever.> | If the Mark qualifies as an original work of authorship under> | copyright law, then the Mark Holder hereby also grants you a copyright> | license, but that is not a trademark license and should not be> | construed as one.That\\'s what I meant. If you\\'re separating the two, I don\\'t think the word \\\"also\\\" in theabove is appropriate. I guess in such a case you don\\'t want to saymore than \\\"there\\'s also a copyright license, go read that one, butremember it\\'s not a trademark license.\\\" | If the Mark qualifies as an original work of authorship under| copyright law, then the Mark Holder SEPARATELY grants you a copyright| license, but that is not a trademark license and should not be| construed as one.That word \\'separately\\' makes it clear that this sentence is merelyan explanation and not by itself a copyright license.Arnoud-- Arnoud Engelfriet, Dutch & European patent attorney - Speaking only for myselfPatents, copyright and IPR explained for techies: http://www.iusmentis.com/-- To UNSUBSCRIBE, email to debian-legal-REQUEST@lists.debian.org',ham\r",
      "\r\n"
     ]
    }
   ],
   "source": [
    "!head -3 data/spam_ham.csv"
   ]
  },
  {
   "cell_type": "markdown",
   "metadata": {},
   "source": [
    "Looks like we have two features: some text (looks like an email), and a label for spam or ham. What is the distribution of the target variable?"
   ]
  },
  {
   "cell_type": "code",
   "execution_count": 4,
   "metadata": {},
   "outputs": [
    {
     "name": "stdout",
     "output_type": "stream",
     "text": [
      "   1 \r\n",
      "   1                  Alonzo Houser\r\n",
      "   1                  Andrea Winslow\r\n",
      "   1                  Arron Tanner\r\n",
      "   1                  Becky Conklin\r\n",
      "   1                  Christie Slaughter\r\n",
      "   1                  Danial Good\r\n",
      "   1                  Darcy Berger\r\n",
      "   1                  Dena Major\r\n",
      "   1                  Donna Henderson\r\n"
     ]
    }
   ],
   "source": [
    "!cut -f2 -d',' data/spam_ham.csv | sort | uniq -c | head"
   ]
  },
  {
   "cell_type": "markdown",
   "metadata": {},
   "source": [
    "It doesn't look like that did what we wanted. Can you see why?\n",
    "\n",
    "The data in this file is **text data**. The text data in the first column can have commas. The command line will have some issues reading this data since it will try to split on all instances of the delimeter. Ideally, we would like to have a way of **encapsulating** the first column. Note that we actually have something like this in the data. The first column is wrapped in single quotes. Python (and pandas) have more explicit ways of dealing with this:"
   ]
  },
  {
   "cell_type": "code",
   "execution_count": 5,
   "metadata": {},
   "outputs": [],
   "source": [
    "data = pd.read_csv(\"data/spam_ham.csv\", quotechar=\"'\", escapechar=\"\\\\\")"
   ]
  },
  {
   "cell_type": "markdown",
   "metadata": {},
   "source": [
    "Above, we specify that fields that need to be encapsulated are done so with single quotes (`quotechar`). But, what if the text in this field uses single quotes? For example, apostrophes in words like \"can't\" would break the encapsulation. To overcome this, we **escape** single quotes that are actually just text. Here, we specify the escape character as a backslash (`escapechar`). So now, for example, \"can't\" would be written as \"can\\'t\".\n",
    "\n",
    "(Normally, this would involve slightly painful process of going through, finding the extra quotes, and escaping them.  A common way to find them would be to try to load the data, see where it breaks, fix the problem, and then iterate.  If there are just a few issues to fix, this can be effective.)\n",
    "\n",
    "Let's take another look at our data."
   ]
  },
  {
   "cell_type": "code",
   "execution_count": 6,
   "metadata": {},
   "outputs": [
    {
     "data": {
      "text/html": [
       "<div>\n",
       "<style scoped>\n",
       "    .dataframe tbody tr th:only-of-type {\n",
       "        vertical-align: middle;\n",
       "    }\n",
       "\n",
       "    .dataframe tbody tr th {\n",
       "        vertical-align: top;\n",
       "    }\n",
       "\n",
       "    .dataframe thead th {\n",
       "        text-align: right;\n",
       "    }\n",
       "</style>\n",
       "<table border=\"1\" class=\"dataframe\">\n",
       "  <thead>\n",
       "    <tr style=\"text-align: right;\">\n",
       "      <th></th>\n",
       "      <th>text</th>\n",
       "      <th>spam</th>\n",
       "    </tr>\n",
       "  </thead>\n",
       "  <tbody>\n",
       "    <tr>\n",
       "      <th>0</th>\n",
       "      <td>Hi...I have to use R to find out the 90% confi...</td>\n",
       "      <td>ham</td>\n",
       "    </tr>\n",
       "    <tr>\n",
       "      <th>1</th>\n",
       "      <td>Francesco Poli wrote:&gt; On Sun, 15 Apr 2007 21:...</td>\n",
       "      <td>ham</td>\n",
       "    </tr>\n",
       "    <tr>\n",
       "      <th>2</th>\n",
       "      <td>Stephen Thorne wrote:&gt; What I was thinking was...</td>\n",
       "      <td>ham</td>\n",
       "    </tr>\n",
       "    <tr>\n",
       "      <th>3</th>\n",
       "      <td>Hi,I have this site that auto generates an ind...</td>\n",
       "      <td>ham</td>\n",
       "    </tr>\n",
       "    <tr>\n",
       "      <th>4</th>\n",
       "      <td>Author: metzeDate: 2007-04-16 08:20:13 +0000 (...</td>\n",
       "      <td>ham</td>\n",
       "    </tr>\n",
       "  </tbody>\n",
       "</table>\n",
       "</div>"
      ],
      "text/plain": [
       "                                                text spam\n",
       "0  Hi...I have to use R to find out the 90% confi...  ham\n",
       "1  Francesco Poli wrote:> On Sun, 15 Apr 2007 21:...  ham\n",
       "2  Stephen Thorne wrote:> What I was thinking was...  ham\n",
       "3  Hi,I have this site that auto generates an ind...  ham\n",
       "4  Author: metzeDate: 2007-04-16 08:20:13 +0000 (...  ham"
      ]
     },
     "execution_count": 6,
     "metadata": {},
     "output_type": "execute_result"
    }
   ],
   "source": [
    "data.head()"
   ]
  },
  {
   "cell_type": "markdown",
   "metadata": {},
   "source": [
    "Here, the target is whether or not a record should be considered as spam. This is recorded as the string 'spam' or 'ham'. To make it a little easier for our classifier, let's recode it as `0` or `1`."
   ]
  },
  {
   "cell_type": "code",
   "execution_count": 7,
   "metadata": {},
   "outputs": [],
   "source": [
    "data['spam'] = pd.Series(data['spam'] == 'spam', dtype=int)"
   ]
  },
  {
   "cell_type": "code",
   "execution_count": 8,
   "metadata": {},
   "outputs": [
    {
     "data": {
      "text/html": [
       "<div>\n",
       "<style scoped>\n",
       "    .dataframe tbody tr th:only-of-type {\n",
       "        vertical-align: middle;\n",
       "    }\n",
       "\n",
       "    .dataframe tbody tr th {\n",
       "        vertical-align: top;\n",
       "    }\n",
       "\n",
       "    .dataframe thead th {\n",
       "        text-align: right;\n",
       "    }\n",
       "</style>\n",
       "<table border=\"1\" class=\"dataframe\">\n",
       "  <thead>\n",
       "    <tr style=\"text-align: right;\">\n",
       "      <th></th>\n",
       "      <th>text</th>\n",
       "      <th>spam</th>\n",
       "    </tr>\n",
       "  </thead>\n",
       "  <tbody>\n",
       "    <tr>\n",
       "      <th>0</th>\n",
       "      <td>Hi...I have to use R to find out the 90% confi...</td>\n",
       "      <td>0</td>\n",
       "    </tr>\n",
       "    <tr>\n",
       "      <th>1</th>\n",
       "      <td>Francesco Poli wrote:&gt; On Sun, 15 Apr 2007 21:...</td>\n",
       "      <td>0</td>\n",
       "    </tr>\n",
       "    <tr>\n",
       "      <th>2</th>\n",
       "      <td>Stephen Thorne wrote:&gt; What I was thinking was...</td>\n",
       "      <td>0</td>\n",
       "    </tr>\n",
       "    <tr>\n",
       "      <th>3</th>\n",
       "      <td>Hi,I have this site that auto generates an ind...</td>\n",
       "      <td>0</td>\n",
       "    </tr>\n",
       "    <tr>\n",
       "      <th>4</th>\n",
       "      <td>Author: metzeDate: 2007-04-16 08:20:13 +0000 (...</td>\n",
       "      <td>0</td>\n",
       "    </tr>\n",
       "  </tbody>\n",
       "</table>\n",
       "</div>"
      ],
      "text/plain": [
       "                                                text  spam\n",
       "0  Hi...I have to use R to find out the 90% confi...     0\n",
       "1  Francesco Poli wrote:> On Sun, 15 Apr 2007 21:...     0\n",
       "2  Stephen Thorne wrote:> What I was thinking was...     0\n",
       "3  Hi,I have this site that auto generates an ind...     0\n",
       "4  Author: metzeDate: 2007-04-16 08:20:13 +0000 (...     0"
      ]
     },
     "execution_count": 8,
     "metadata": {},
     "output_type": "execute_result"
    }
   ],
   "source": [
    "data.head()"
   ]
  },
  {
   "cell_type": "markdown",
   "metadata": {},
   "source": [
    "Since we are going to do some modeling, we should split our data into a training and test set."
   ]
  },
  {
   "cell_type": "code",
   "execution_count": 9,
   "metadata": {},
   "outputs": [
    {
     "name": "stderr",
     "output_type": "stream",
     "text": [
      "//anaconda/lib/python3.5/site-packages/sklearn/model_selection/_split.py:2026: FutureWarning: From version 0.21, test_size will always complement train_size unless both are specified.\n",
      "  FutureWarning)\n"
     ]
    }
   ],
   "source": [
    "X = data['text']\n",
    "Y = data['spam']\n",
    "\n",
    "X_train, X_test, Y_train, Y_test = train_test_split(X, Y, train_size=.75)"
   ]
  },
  {
   "cell_type": "markdown",
   "metadata": {},
   "source": [
    "### Text as features\n",
    "How can we turn the large amount of text for each record into useful features?\n",
    "\n",
    "\n",
    "#### Binary representation\n",
    "One way is to create a matrix that uses each word as a feature and keeps track of whether or not a word appears in a document/record. You can do this in sklearn with a `CountVectorizer()` and setting `binary` to `true`. The process is very similar to how you fit a model: you will fit a `CounterVectorizer()`. This will figure out what words exist in your data."
   ]
  },
  {
   "cell_type": "code",
   "execution_count": 10,
   "metadata": {},
   "outputs": [
    {
     "data": {
      "text/plain": [
       "CountVectorizer(analyzer='word', binary=True, decode_error='strict',\n",
       "        dtype=<class 'numpy.int64'>, encoding='utf-8', input='content',\n",
       "        lowercase=True, max_df=1.0, max_features=None, min_df=1,\n",
       "        ngram_range=(1, 1), preprocessor=None, stop_words=None,\n",
       "        strip_accents=None, token_pattern='(?u)\\\\b\\\\w\\\\w+\\\\b',\n",
       "        tokenizer=None, vocabulary=None)"
      ]
     },
     "execution_count": 10,
     "metadata": {},
     "output_type": "execute_result"
    }
   ],
   "source": [
    "binary_vectorizer = CountVectorizer(binary=True)\n",
    "binary_vectorizer.fit(X_train)"
   ]
  },
  {
   "cell_type": "markdown",
   "metadata": {},
   "source": [
    "Let's look at the vocabulary the `CountVectorizer()` learned."
   ]
  },
  {
   "cell_type": "code",
   "execution_count": 11,
   "metadata": {},
   "outputs": [
    {
     "data": {
      "text/plain": [
       "[('havecondemned', 32121),\n",
       " ('libgfortran', 38634),\n",
       " ('g_readsz', 30018),\n",
       " ('luazerletimbre', 39782),\n",
       " ('reflection', 52010),\n",
       " ('next563', 43640),\n",
       " ('foreigner', 29028),\n",
       " ('blacks', 16666),\n",
       " ('combobox', 20158),\n",
       " ('blending', 16718)]"
      ]
     },
     "execution_count": 11,
     "metadata": {},
     "output_type": "execute_result"
    }
   ],
   "source": [
    "vocabulary_list = list(zip( binary_vectorizer.vocabulary_.keys(), binary_vectorizer.vocabulary_.values()) )\n",
    "\n",
    "vocabulary_list[0:10]"
   ]
  },
  {
   "cell_type": "markdown",
   "metadata": {},
   "source": [
    "Now that we know what words are in the data, we can transform our blobs of text into a clean matrix. Simply `.transform()` the raw data using our fitted `CountVectorizer()`. You will do this for the training and test data. What do you think happens if there are new words in the test data that were not seen in the training data?"
   ]
  },
  {
   "cell_type": "code",
   "execution_count": 12,
   "metadata": {},
   "outputs": [],
   "source": [
    "X_train_binary = binary_vectorizer.transform(X_train)\n",
    "X_test_binary = binary_vectorizer.transform(X_test)"
   ]
  },
  {
   "cell_type": "markdown",
   "metadata": {},
   "source": [
    "We can take a look at our new `X_test_counts`."
   ]
  },
  {
   "cell_type": "code",
   "execution_count": 13,
   "metadata": {},
   "outputs": [
    {
     "data": {
      "text/plain": [
       "<2028x71157 sparse matrix of type '<class 'numpy.int64'>'\n",
       "\twith 225416 stored elements in Compressed Sparse Row format>"
      ]
     },
     "execution_count": 13,
     "metadata": {},
     "output_type": "execute_result"
    }
   ],
   "source": [
    "X_test_binary"
   ]
  },
  {
   "cell_type": "markdown",
   "metadata": {},
   "source": [
    "Sparse matrix? Where is our data?\n",
    "\n",
    "If you look at the output above, you will see that it is being stored in a *sparse* matrix (as opposed to the typical dense matrix) that is ~2k rows long and ~70k columns. The rows here are records in the original data and the columns are words. Given the shape, this means there are ~140m cells that should have values. However, from the above, we can see that only ~220k cells (~0.15%) of the cells have values! Why is this?\n",
    "\n",
    "To save space, sklearn uses a sparse matrix. This means that only values that are not zero are stored! This saves a ton of space! This also means that visualizing the data is a little trickier. Let's look at a very small chunk."
   ]
  },
  {
   "cell_type": "code",
   "execution_count": 14,
   "metadata": {},
   "outputs": [
    {
     "data": {
      "text/plain": [
       "matrix([[0, 0, 1, 0, 0, 0, 0, 0, 0, 0, 0, 0, 0, 0, 0, 0, 0, 0, 0, 0],\n",
       "        [0, 0, 0, 0, 0, 0, 0, 0, 0, 0, 0, 0, 0, 0, 0, 0, 0, 0, 0, 0],\n",
       "        [0, 0, 0, 0, 0, 0, 0, 0, 0, 0, 0, 0, 0, 0, 0, 0, 0, 0, 0, 0],\n",
       "        [0, 0, 0, 0, 0, 0, 0, 0, 0, 0, 0, 0, 0, 0, 0, 0, 0, 0, 0, 0],\n",
       "        [0, 0, 0, 0, 0, 0, 0, 0, 0, 0, 0, 0, 0, 0, 0, 0, 0, 0, 0, 0],\n",
       "        [0, 0, 0, 0, 0, 0, 0, 0, 0, 0, 0, 0, 0, 0, 0, 0, 0, 0, 0, 0],\n",
       "        [0, 0, 0, 0, 0, 0, 0, 0, 0, 0, 0, 0, 0, 0, 0, 0, 0, 0, 0, 0],\n",
       "        [0, 0, 0, 0, 0, 0, 0, 0, 0, 0, 0, 0, 0, 0, 0, 0, 0, 0, 0, 0],\n",
       "        [1, 0, 0, 0, 0, 0, 0, 0, 0, 0, 0, 0, 0, 0, 0, 0, 0, 0, 0, 0],\n",
       "        [0, 0, 0, 0, 0, 0, 0, 0, 0, 0, 0, 0, 0, 0, 0, 0, 0, 0, 0, 0],\n",
       "        [0, 0, 0, 0, 0, 0, 0, 0, 0, 0, 0, 0, 0, 0, 0, 0, 0, 0, 0, 0],\n",
       "        [0, 0, 0, 0, 0, 0, 0, 0, 0, 0, 0, 0, 0, 0, 0, 0, 0, 0, 0, 0],\n",
       "        [1, 1, 0, 0, 0, 0, 0, 0, 0, 0, 0, 0, 0, 0, 0, 0, 0, 0, 0, 0],\n",
       "        [0, 0, 0, 0, 0, 0, 0, 0, 0, 0, 0, 0, 0, 0, 0, 0, 0, 0, 0, 0],\n",
       "        [1, 0, 1, 0, 0, 0, 0, 0, 0, 0, 0, 0, 0, 0, 0, 0, 0, 0, 0, 0],\n",
       "        [0, 0, 0, 0, 0, 0, 0, 0, 0, 0, 0, 0, 0, 0, 0, 0, 0, 0, 0, 0],\n",
       "        [0, 0, 0, 0, 0, 0, 0, 0, 0, 0, 0, 0, 0, 0, 0, 0, 0, 0, 0, 0],\n",
       "        [0, 0, 0, 0, 0, 0, 0, 0, 0, 0, 0, 0, 0, 0, 0, 0, 0, 0, 0, 0],\n",
       "        [0, 0, 0, 0, 0, 0, 0, 0, 0, 0, 0, 0, 0, 0, 0, 0, 0, 0, 0, 0],\n",
       "        [0, 1, 0, 0, 0, 0, 0, 0, 0, 0, 0, 0, 0, 0, 0, 0, 0, 0, 0, 0]])"
      ]
     },
     "execution_count": 14,
     "metadata": {},
     "output_type": "execute_result"
    }
   ],
   "source": [
    "X_test_binary[0:20, 0:20].todense()"
   ]
  },
  {
   "cell_type": "markdown",
   "metadata": {},
   "source": [
    "#### Applying a model\n",
    "Now that we have a ton of features (since we have a ton of words!) let's try using a logistic regression model to predict spam/ham."
   ]
  },
  {
   "cell_type": "code",
   "execution_count": 15,
   "metadata": {},
   "outputs": [
    {
     "name": "stdout",
     "output_type": "stream",
     "text": [
      "Area under the ROC curve on test data = 0.996\n"
     ]
    }
   ],
   "source": [
    "model = LogisticRegression()\n",
    "model.fit(X_train_binary, Y_train)\n",
    "\n",
    "print (\"Area under the ROC curve on test data = %.3f\" % metrics.roc_auc_score(model.predict(X_test_binary), Y_test))"
   ]
  },
  {
   "cell_type": "markdown",
   "metadata": {},
   "source": [
    "Is this any good? What do we care about in this case? Let's take a look at our ROC measure in more detail by looking at the actual ROC curve."
   ]
  },
  {
   "cell_type": "code",
   "execution_count": 16,
   "metadata": {},
   "outputs": [
    {
     "data": {
      "image/png": "iVBORw0KGgoAAAANSUhEUgAAAmcAAAH4CAYAAAAPakoaAAAABHNCSVQICAgIfAhkiAAAAAlwSFlz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\n",
      "text/plain": [
       "<matplotlib.figure.Figure at 0x1150d7d68>"
      ]
     },
     "metadata": {},
     "output_type": "display_data"
    }
   ],
   "source": [
    "fpr, tpr, thresholds = metrics.roc_curve(Y_test, model.predict_proba(X_test_binary)[:,1])\n",
    "\n",
    "#tprs.append(tpr)\n",
    "#fprs.append(fpr)\n",
    "#roc_labels.append(\"Default Binary\")\n",
    "\n",
    "ax = plt.subplot()\n",
    "plt.plot(fpr, tpr)\n",
    "plt.xlabel(\"fpr\")\n",
    "plt.ylabel(\"tpr\")\n",
    "plt.title(\"ROC Curve\")\n",
    "#plt.yscale('log')\n",
    "#plt.xscale('log')\n",
    "plt.show()"
   ]
  },
  {
   "cell_type": "markdown",
   "metadata": {},
   "source": [
    " **Yikes! That looks perfect.  Let's zoom in!**\n"
   ]
  },
  {
   "cell_type": "code",
   "execution_count": 17,
   "metadata": {},
   "outputs": [
    {
     "data": {
      "image/png": "iVBORw0KGgoAAAANSUhEUgAAAncAAAH4CAYAAAAoxMvyAAAABHNCSVQICAgIfAhkiAAAAAlwSFlz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\n",
      "text/plain": [
       "<matplotlib.figure.Figure at 0x11503e5f8>"
      ]
     },
     "metadata": {},
     "output_type": "display_data"
    }
   ],
   "source": [
    "fpr, tpr, thresholds = metrics.roc_curve(Y_test, model.predict_proba(X_test_binary)[:,1])\n",
    "\n",
    "tprs.append(tpr)\n",
    "fprs.append(fpr)\n",
    "roc_labels.append(\"Default Binary\")\n",
    "\n",
    "ax = plt.subplot()\n",
    "plt.plot(fpr, tpr)\n",
    "plt.xlabel(\"fpr\")\n",
    "plt.ylabel(\"tpr\")\n",
    "plt.title(\"ROC Curve\")\n",
    "plt.xlim([0, .07])\n",
    "plt.ylim([.98, 1.001])\n",
    "plt.show()"
   ]
  },
  {
   "cell_type": "markdown",
   "metadata": {},
   "source": [
    "#### Counts instead of binary\n",
    "Instead of using a 0 or 1 to represent the occurence of a word, we can use the actual counts. We do this the same way as before, but now we leave `binary` set to `false` (the default value)."
   ]
  },
  {
   "cell_type": "code",
   "execution_count": 18,
   "metadata": {},
   "outputs": [
    {
     "name": "stdout",
     "output_type": "stream",
     "text": [
      "Area under the ROC curve on test data = 0.995\n"
     ]
    }
   ],
   "source": [
    "# Fit a counter\n",
    "count_vectorizer = CountVectorizer()\n",
    "count_vectorizer.fit(X_train)\n",
    "\n",
    "# Transform to counter\n",
    "X_train_counts = count_vectorizer.transform(X_train)\n",
    "X_test_counts = count_vectorizer.transform(X_test)\n",
    "\n",
    "# Model\n",
    "model = LogisticRegression()\n",
    "model.fit(X_train_counts, Y_train)\n",
    "\n",
    "print (\"Area under the ROC curve on test data = %.3f\" % metrics.roc_auc_score(model.predict(X_test_counts), Y_test))"
   ]
  },
  {
   "cell_type": "markdown",
   "metadata": {},
   "source": [
    "We can also take a look at the ROC curve."
   ]
  },
  {
   "cell_type": "code",
   "execution_count": 19,
   "metadata": {},
   "outputs": [
    {
     "data": {
      "image/png": "iVBORw0KGgoAAAANSUhEUgAAAnAAAAH4CAYAAADKGNCLAAAABHNCSVQICAgIfAhkiAAAAAlwSFlz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\nAQAMI+AAAIYRcAAAw/w/1f8kzT/mY0gAAAAASUVORK5CYII=\n",
      "text/plain": [
       "<matplotlib.figure.Figure at 0x11b54cda0>"
      ]
     },
     "metadata": {},
     "output_type": "display_data"
    }
   ],
   "source": [
    "fpr, tpr, thresholds = metrics.roc_curve(Y_test, model.predict_proba(X_test_counts)[:,1])\n",
    "\n",
    "tprs.append(tpr)\n",
    "fprs.append(fpr)\n",
    "roc_labels.append(\"Default Counts\")\n",
    "\n",
    "ax = plt.subplot()\n",
    "plt.plot(fpr, tpr)\n",
    "plt.xlabel(\"fpr\")\n",
    "plt.ylabel(\"tpr\")\n",
    "plt.title(\"ROC Curve\")\n",
    "plt.xlim([0, .07])\n",
    "plt.ylim([.96, 1.001])\n",
    "\n",
    "plt.show()"
   ]
  },
  {
   "cell_type": "markdown",
   "metadata": {},
   "source": [
    "#### Tf-idf\n",
    "Another popular technique when dealing with text is to use the term frequency - inverse document frequency (tf-idf) measure instead of just counts as the feature values (see text)."
   ]
  },
  {
   "cell_type": "code",
   "execution_count": 20,
   "metadata": {},
   "outputs": [
    {
     "name": "stdout",
     "output_type": "stream",
     "text": [
      "Area under the ROC curve on test data = 0.986\n"
     ]
    }
   ],
   "source": [
    "# Fit a counter\n",
    "tfidf_vectorizer = TfidfVectorizer()\n",
    "tfidf_vectorizer.fit(X_train)\n",
    "\n",
    "# Transform to a counter\n",
    "X_train_tfidf = tfidf_vectorizer.transform(X_train)\n",
    "X_test_tfidf = tfidf_vectorizer.transform(X_test)\n",
    "\n",
    "# Model\n",
    "model = LogisticRegression()\n",
    "model.fit(X_train_tfidf, Y_train)\n",
    "\n",
    "print (\"Area under the ROC curve on test data = %.3f\" % metrics.roc_auc_score(model.predict(X_test_counts), Y_test))"
   ]
  },
  {
   "cell_type": "code",
   "execution_count": 28,
   "metadata": {},
   "outputs": [
    {
     "data": {
      "text/plain": [
       "matrix([[0, 0, 1, 0, 0, 0, 0, 0, 0, 0],\n",
       "        [0, 0, 0, 0, 0, 0, 0, 0, 0, 0],\n",
       "        [0, 0, 0, 0, 0, 0, 0, 0, 0, 0],\n",
       "        [0, 0, 0, 0, 0, 0, 0, 0, 0, 0],\n",
       "        [0, 0, 0, 0, 0, 0, 0, 0, 0, 0],\n",
       "        [0, 0, 0, 0, 0, 0, 0, 0, 0, 0],\n",
       "        [0, 0, 0, 0, 0, 0, 0, 0, 0, 0],\n",
       "        [0, 0, 0, 0, 0, 0, 0, 0, 0, 0],\n",
       "        [2, 0, 0, 0, 0, 0, 0, 0, 0, 0],\n",
       "        [0, 0, 0, 0, 0, 0, 0, 0, 0, 0]])"
      ]
     },
     "execution_count": 28,
     "metadata": {},
     "output_type": "execute_result"
    }
   ],
   "source": [
    "X_test_counts[0:10, 0:10].todense()"
   ]
  },
  {
   "cell_type": "code",
   "execution_count": 29,
   "metadata": {},
   "outputs": [
    {
     "data": {
      "text/plain": [
       "matrix([[ 0.        ,  0.        ,  0.05372166,  0.        ,  0.        ,\n",
       "          0.        ,  0.        ,  0.        ,  0.        ,  0.        ],\n",
       "        [ 0.        ,  0.        ,  0.        ,  0.        ,  0.        ,\n",
       "          0.        ,  0.        ,  0.        ,  0.        ,  0.        ],\n",
       "        [ 0.        ,  0.        ,  0.        ,  0.        ,  0.        ,\n",
       "          0.        ,  0.        ,  0.        ,  0.        ,  0.        ],\n",
       "        [ 0.        ,  0.        ,  0.        ,  0.        ,  0.        ,\n",
       "          0.        ,  0.        ,  0.        ,  0.        ,  0.        ],\n",
       "        [ 0.        ,  0.        ,  0.        ,  0.        ,  0.        ,\n",
       "          0.        ,  0.        ,  0.        ,  0.        ,  0.        ],\n",
       "        [ 0.        ,  0.        ,  0.        ,  0.        ,  0.        ,\n",
       "          0.        ,  0.        ,  0.        ,  0.        ,  0.        ],\n",
       "        [ 0.        ,  0.        ,  0.        ,  0.        ,  0.        ,\n",
       "          0.        ,  0.        ,  0.        ,  0.        ,  0.        ],\n",
       "        [ 0.        ,  0.        ,  0.        ,  0.        ,  0.        ,\n",
       "          0.        ,  0.        ,  0.        ,  0.        ,  0.        ],\n",
       "        [ 0.01601445,  0.        ,  0.        ,  0.        ,  0.        ,\n",
       "          0.        ,  0.        ,  0.        ,  0.        ,  0.        ],\n",
       "        [ 0.        ,  0.        ,  0.        ,  0.        ,  0.        ,\n",
       "          0.        ,  0.        ,  0.        ,  0.        ,  0.        ]])"
      ]
     },
     "execution_count": 29,
     "metadata": {},
     "output_type": "execute_result"
    }
   ],
   "source": [
    "X_test_tfidf[0:10, 0:10].todense()"
   ]
  },
  {
   "cell_type": "markdown",
   "metadata": {},
   "source": [
    "Once again, we can look at the ROC curve."
   ]
  },
  {
   "cell_type": "code",
   "execution_count": 21,
   "metadata": {},
   "outputs": [
    {
     "data": {
      "image/png": "iVBORw0KGgoAAAANSUhEUgAAAnAAAAH4CAYAAADKGNCLAAAABHNCSVQICAgIfAhkiAAAAAlwSFlz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\n",
      "text/plain": [
       "<matplotlib.figure.Figure at 0x11d79f6a0>"
      ]
     },
     "metadata": {},
     "output_type": "display_data"
    }
   ],
   "source": [
    "fpr, tpr, thresholds = metrics.roc_curve(Y_test, model.predict_proba(X_test_tfidf)[:,1])\n",
    "\n",
    "tprs.append(tpr)\n",
    "fprs.append(fpr)\n",
    "roc_labels.append(\"Default Tfidf\")\n",
    "\n",
    "ax = plt.subplot()\n",
    "plt.plot(fpr, tpr)\n",
    "plt.xlabel(\"fpr\")\n",
    "plt.ylabel(\"tpr\")\n",
    "plt.title(\"ROC Curve\")\n",
    "\n",
    "plt.xlim([0, .07])\n",
    "plt.ylim([.96, 1.001])\n",
    "\n",
    "plt.show()"
   ]
  },
  {
   "cell_type": "markdown",
   "metadata": {},
   "source": [
    "The `CountVectorizer()` and `TfidfVectorizer()` functions have many options. You can restrict the words you would like in the vocabulary. You can add n-grams. You can use stop word lists. Which options you should use generally depend on the type of data you are dealing with. We can discuss and try some of them now."
   ]
  },
  {
   "cell_type": "markdown",
   "metadata": {},
   "source": [
    "Now that we have a few different feature sets and models, let's look at all of our ROC curves."
   ]
  },
  {
   "cell_type": "code",
   "execution_count": 22,
   "metadata": {},
   "outputs": [
    {
     "data": {
      "image/png": "iVBORw0KGgoAAAANSUhEUgAAAncAAAH4CAYAAAAoxMvyAAAABHNCSVQICAgIfAhkiAAAAAlwSFlz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\nkjLy/wMyHgs4zdZF1AAAAABJRU5ErkJggg==\n",
      "text/plain": [
       "<matplotlib.figure.Figure at 0x11d79fe48>"
      ]
     },
     "metadata": {},
     "output_type": "display_data"
    }
   ],
   "source": [
    "for fpr, tpr, roc_label in zip(fprs, tprs, roc_labels):\n",
    "    plt.plot(fpr, tpr, label=roc_label)\n",
    "\n",
    "plt.xlabel(\"fpr\")\n",
    "plt.ylabel(\"tpr\")\n",
    "plt.title(\"ROC Curves\")\n",
    "plt.legend()\n",
    "\n",
    "plt.xlim([0, .07])\n",
    "plt.ylim([.98, 1.001])\n",
    "\n",
    "plt.show()"
   ]
  },
  {
   "cell_type": "markdown",
   "metadata": {},
   "source": [
    "### Modeling with another technique: Naive Bayes\n",
    "\n",
    "So far we have been exposed to tree classifiers and logistic regression in class. We have also seen SVM model in the homework. Now, it's time for another popular modeling technique of supervised learning(especially in text classification): the Naive Bayes (NB) classifier. In particular, we are using a Bernoulli Naive Bayes (BNB) for our binary classification. (Bernoulli NB is the model described in the book; there are other versions of NB, see below.)\n",
    "\n",
    "As described in your text, the Naive Bayes model is a **probabilistic approach which assumes conditional independence between features** (in this case, each word is a feature, the conditioning is on the true class). It assigns class labels (e.g. spam = 1 or spam = 0). In other words, Naive Bayes models the probabilities of the presence of each _word_, given that we have a spam email, and given that we have a non-spam email.  Then it combines them using Bayes Theorem (again, as described in the book).\n",
    "\n",
    "Using this model in sklearn works just the same as the others we've seen ([More details here..](http://scikit-learn.org/stable/modules/naive_bayes.html))\n",
    "\n",
    "- Choose the model\n",
    "- Fit the model (Train)\n",
    "- Predict with the model (Train or Test or Use data)"
   ]
  },
  {
   "cell_type": "code",
   "execution_count": 23,
   "metadata": {},
   "outputs": [
    {
     "data": {
      "text/plain": [
       "BernoulliNB(alpha=1.0, binarize=0.0, class_prior=None, fit_prior=True)"
      ]
     },
     "execution_count": 23,
     "metadata": {},
     "output_type": "execute_result"
    }
   ],
   "source": [
    "from sklearn.naive_bayes import BernoulliNB\n",
    "\n",
    "model = BernoulliNB()\n",
    "model.fit(X_train_binary, Y_train)\n"
   ]
  },
  {
   "cell_type": "code",
   "execution_count": 24,
   "metadata": {},
   "outputs": [
    {
     "name": "stdout",
     "output_type": "stream",
     "text": [
      "AUC on the count TRAIN data = 0.981\n",
      "AUC on the count TEST data = 0.976\n"
     ]
    }
   ],
   "source": [
    "print (\"AUC on the count TRAIN data = %.3f\" % metrics.roc_auc_score(model.predict(X_train_binary), Y_train))\n",
    "print (\"AUC on the count TEST data = %.3f\" % metrics.roc_auc_score(model.predict(X_test_binary), Y_test))"
   ]
  },
  {
   "cell_type": "markdown",
   "metadata": {},
   "source": [
    "The past few weeks we have seen that many of the models we are using have different complexity control parameters that can be tweaked. In naive Bayes, the parameter that is typically tuned is the Laplace smoothing value **`alpha`**.\n",
    "\n",
    "Also, there are other versions of naive Bayes:\n",
    "\n",
    "1. **Multinomial naive Bayes (MNB):** This model handles count features and not just binary features. Sometimes MNB is used with binary presence/absence variables anyway (like word presence), even though that violates the model assumptions, because in practice it works well anyway.\n",
    "2. **Gaussian Naive Bayes (GNB):** This model considers likelihood of the features as Gaussian--and thus we can use it for continuous features.  Sometimes GNB and Bernoulli NB are combined when one has features of mixed types.  "
   ]
  },
  {
   "cell_type": "code",
   "execution_count": 25,
   "metadata": {},
   "outputs": [
    {
     "data": {
      "image/png": "iVBORw0KGgoAAAANSUhEUgAAAncAAAH4CAYAAAAoxMvyAAAABHNCSVQICAgIfAhkiAAAAAlwSFlz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\nkA9OTd79qLh+nQAAAABJRU5ErkJggg==\n",
      "text/plain": [
       "<matplotlib.figure.Figure at 0x11d57c860>"
      ]
     },
     "metadata": {},
     "output_type": "display_data"
    }
   ],
   "source": [
    "     \n",
    "## Include the false positives and true positives to the previous list\n",
    "\n",
    "fpr, tpr, thresholds = metrics.roc_curve(Y_test, model.predict_proba(X_test_tfidf)[:,1])\n",
    "\n",
    "tprs.append(tpr)\n",
    "fprs.append(fpr)\n",
    "roc_labels.append(\"Default BNB\")\n",
    "\n",
    "\n",
    "\n",
    "## Plot the list again: 3 Logistic Regressions vs Naive Bayes\n",
    "\n",
    "for fpr, tpr, roc_label in zip(fprs, tprs, roc_labels):\n",
    "    plt.plot(fpr, tpr, label=roc_label)\n",
    "\n",
    "plt.xlabel(\"fpr\")\n",
    "plt.ylabel(\"tpr\")\n",
    "plt.title(\"ROC Curves\")\n",
    "plt.legend()\n",
    "\n",
    "plt.xlim([0, .07])\n",
    "plt.ylim([.97, 1.001])\n",
    "\n",
    "plt.show()"
   ]
  }
 ],
 "metadata": {
  "kernelspec": {
   "display_name": "Python 3",
   "language": "python",
   "name": "python3"
  },
  "language_info": {
   "codemirror_mode": {
    "name": "ipython",
    "version": 3
   },
   "file_extension": ".py",
   "mimetype": "text/x-python",
   "name": "python",
   "nbconvert_exporter": "python",
   "pygments_lexer": "ipython3",
   "version": "3.5.3"
  }
 },
 "nbformat": 4,
 "nbformat_minor": 1
}
=======
{
 "cells": [
  {
   "cell_type": "markdown",
   "metadata": {},
   "source": [
    "# Dealing with text and Naive Bayes\n",
    "\n",
    "Spring 2017 - Prof. Foster Provost\n",
    "\n",
    "Teacher Assistant: Maria L Zamora Maass\n",
    "\n",
    "***\n",
    "\n"
   ]
  },
  {
   "cell_type": "markdown",
   "metadata": {},
   "source": [
    "Read in some packages."
   ]
  },
  {
   "cell_type": "code",
   "execution_count": 1,
   "metadata": {
    "collapsed": false
   },
   "outputs": [],
   "source": [
    "# Import the libraries we will be using\n",
    "import numpy as np\n",
    "import pandas as pd\n",
    "from sklearn.linear_model import LogisticRegression\n",
    "from sklearn import metrics\n",
    "from sklearn.model_selection import train_test_split\n",
    "from sklearn.feature_extraction.text import CountVectorizer\n",
    "from sklearn.feature_extraction.text import TfidfVectorizer\n",
    "\n",
    "import matplotlib.pylab as plt\n",
    "%matplotlib inline\n",
    "plt.rcParams['figure.figsize'] = 10, 8\n",
    "\n",
    "np.random.seed(36)\n",
    "\n",
    "# We will want to keep track of some different roc curves, lets do that here\n",
    "tprs = []\n",
    "fprs = []\n",
    "roc_labels = []\n"
   ]
  },
  {
   "cell_type": "markdown",
   "metadata": {},
   "source": [
    "### Data\n",
    "For this class, we have a new data set in `data/spam_ham.csv`. Let's take a look at what it contains.\n",
    "\n",
    "Let's remember how to use the terminal (UNIX) commands for quick queries."
   ]
  },
  {
   "cell_type": "code",
   "execution_count": 2,
   "metadata": {
    "collapsed": false
   },
   "outputs": [
    {
     "name": "stdout",
     "output_type": "stream",
     "text": [
      "text,spam\r\n",
      "'Hi...I have to use R to find out the 90\\% confidence-interval for the sensitivityand specificity of the following diagnostic test:A particular diagnostic test for multiple sclerosis was conducted on 20 MSpatients and 20 healthy subjects, 6 MS patients were classified as healthyand 8 healthy subjects were classified as suffering from the MS.Furthermore, I need to find the number of MS patients required for asensitivity of 1\\%...Is there a simple R-command which can do that for me?I am completely new to R...Help please!Jochen-- View this message in context: http://www.nabble.com/Confidence-Intervals....-help...-tf3544217.html#a9894014Sent from the R help mailing list archive at Nabble.com.______________________________________________R-help@stat.math.ethz.ch mailing listhttps://stat.ethz.ch/mailman/listinfo/r-helpPLEASE do read the posting guide http://www.R-project.org/posting-guide.html',ham\r\n"
     ]
    }
   ],
   "source": [
    "!head -2 data/spam_ham.csv"
   ]
  },
  {
   "cell_type": "code",
   "execution_count": 3,
   "metadata": {
    "collapsed": false
   },
   "outputs": [
    {
     "name": "stdout",
     "output_type": "stream",
     "text": [
      "text,spam\r\n",
      "'Hi...I have to use R to find out the 90\\% confidence-interval for the sensitivityand specificity of the following diagnostic test:A particular diagnostic test for multiple sclerosis was conducted on 20 MSpatients and 20 healthy subjects, 6 MS patients were classified as healthyand 8 healthy subjects were classified as suffering from the MS.Furthermore, I need to find the number of MS patients required for asensitivity of 1\\%...Is there a simple R-command which can do that for me?I am completely new to R...Help please!Jochen-- View this message in context: http://www.nabble.com/Confidence-Intervals....-help...-tf3544217.html#a9894014Sent from the R help mailing list archive at Nabble.com.______________________________________________R-help@stat.math.ethz.ch mailing listhttps://stat.ethz.ch/mailman/listinfo/r-helpPLEASE do read the posting guide http://www.R-project.org/posting-guide.html',ham\r\n",
      "'Francesco Poli wrote:> On Sun, 15 Apr 2007 21:24:00 +0200 Arnoud Engelfriet wrote:> > The sign [X] (hereafter \\\"the Mark\\\") is a trademark, rights to which> > are held by [Y], representing [Z] if applicable (hereafter \\\"the> > Mark Holder\\\").> > Wait, the \\\"Mark Holder\\\" would be [Y], I think.I thought you used Y and Z for cases where Y is licensing Z\\'strademark (if Y is Z\\'s subsidiary or authorized licensee for example).Then the trademark holder is Z but Y has certain rights to the mark.The \\\"if applicable\\\" means if there is a Z. Perhaps the whole Z thingshould be taken out. \\\"Rights to which are held by Y\\\", and in thedocument where you define Y you can explain that Y is a subsidiaryof Z or whatever.> | If the Mark qualifies as an original work of authorship under> | copyright law, then the Mark Holder hereby also grants you a copyright> | license, but that is not a trademark license and should not be> | construed as one.That\\'s what I meant. If you\\'re separating the two, I don\\'t think the word \\\"also\\\" in theabove is appropriate. I guess in such a case you don\\'t want to saymore than \\\"there\\'s also a copyright license, go read that one, butremember it\\'s not a trademark license.\\\" | If the Mark qualifies as an original work of authorship under| copyright law, then the Mark Holder SEPARATELY grants you a copyright| license, but that is not a trademark license and should not be| construed as one.That word \\'separately\\' makes it clear that this sentence is merelyan explanation and not by itself a copyright license.Arnoud-- Arnoud Engelfriet, Dutch & European patent attorney - Speaking only for myselfPatents, copyright and IPR explained for techies: http://www.iusmentis.com/-- To UNSUBSCRIBE, email to debian-legal-REQUEST@lists.debian.org',ham\r\n"
     ]
    }
   ],
   "source": [
    "!head -3 data/spam_ham.csv"
   ]
  },
  {
   "cell_type": "markdown",
   "metadata": {},
   "source": [
    "Looks like we have two features: some text (looks like an email), and a label for spam or ham. What is the distribution of the target variable?"
   ]
  },
  {
   "cell_type": "code",
   "execution_count": 4,
   "metadata": {
    "collapsed": false
   },
   "outputs": [
    {
     "name": "stdout",
     "output_type": "stream",
     "text": [
      "   1 \r\n",
      "   1                  Alonzo Houser\r\n",
      "   1                  Andrea Winslow\r\n",
      "   1                  Arron Tanner\r\n",
      "   1                  Becky Conklin\r\n",
      "   1                  Christie Slaughter\r\n",
      "   1                  Danial Good\r\n",
      "   1                  Darcy Berger\r\n",
      "   1                  Dena Major\r\n",
      "   1                  Donna Henderson\r\n"
     ]
    }
   ],
   "source": [
    "!cut -f2 -d',' data/spam_ham.csv | sort | uniq -c | head"
   ]
  },
  {
   "cell_type": "markdown",
   "metadata": {},
   "source": [
    "It doesn't look like that did what we wanted. Can you see why?\n",
    "\n",
    "The data in this file is **text data**. The text data in the first column can have commas. The command line will have some issues reading this data since it will try to split on all instances of the delimeter. Ideally, we would like to have a way of **encapsulating** the first column. Note that we actually have something like this in the data. The first column is wrapped in single quotes. Python (and pandas) have more explicit ways of dealing with this:"
   ]
  },
  {
   "cell_type": "code",
   "execution_count": 5,
   "metadata": {
    "collapsed": false
   },
   "outputs": [],
   "source": [
    "data = pd.read_csv(\"data/spam_ham.csv\", quotechar=\"'\", escapechar=\"\\\\\")"
   ]
  },
  {
   "cell_type": "markdown",
   "metadata": {},
   "source": [
    "Above, we specify that fields that need to be encapsulated are done so with single quotes (`quotechar`). But, what if the text in this field uses single quotes? For example, apostrophes in words like \"can't\" would break the encapsulation. To overcome this, we **escape** single quotes that are actually just text. Here, we specify the escape character as a backslash (`escapechar`). So now, for example, \"can't\" would be written as \"can\\'t\".\n",
    "\n",
    "(Normally, this would involve slightly painful process of going through, finding the extra quotes, and escaping them.  A common way to find them would be to try to load the data, see where it breaks, fix the problem, and then iterate.  If there are just a few issues to fix, this can be effective.)\n",
    "\n",
    "Let's take another look at our data."
   ]
  },
  {
   "cell_type": "code",
   "execution_count": 6,
   "metadata": {
    "collapsed": false
   },
   "outputs": [
    {
     "data": {
      "text/html": [
       "<div>\n",
       "<table border=\"1\" class=\"dataframe\">\n",
       "  <thead>\n",
       "    <tr style=\"text-align: right;\">\n",
       "      <th></th>\n",
       "      <th>text</th>\n",
       "      <th>spam</th>\n",
       "    </tr>\n",
       "  </thead>\n",
       "  <tbody>\n",
       "    <tr>\n",
       "      <th>0</th>\n",
       "      <td>Hi...I have to use R to find out the 90% confi...</td>\n",
       "      <td>ham</td>\n",
       "    </tr>\n",
       "    <tr>\n",
       "      <th>1</th>\n",
       "      <td>Francesco Poli wrote:&gt; On Sun, 15 Apr 2007 21:...</td>\n",
       "      <td>ham</td>\n",
       "    </tr>\n",
       "    <tr>\n",
       "      <th>2</th>\n",
       "      <td>Stephen Thorne wrote:&gt; What I was thinking was...</td>\n",
       "      <td>ham</td>\n",
       "    </tr>\n",
       "    <tr>\n",
       "      <th>3</th>\n",
       "      <td>Hi,I have this site that auto generates an ind...</td>\n",
       "      <td>ham</td>\n",
       "    </tr>\n",
       "    <tr>\n",
       "      <th>4</th>\n",
       "      <td>Author: metzeDate: 2007-04-16 08:20:13 +0000 (...</td>\n",
       "      <td>ham</td>\n",
       "    </tr>\n",
       "  </tbody>\n",
       "</table>\n",
       "</div>"
      ],
      "text/plain": [
       "                                                text spam\n",
       "0  Hi...I have to use R to find out the 90% confi...  ham\n",
       "1  Francesco Poli wrote:> On Sun, 15 Apr 2007 21:...  ham\n",
       "2  Stephen Thorne wrote:> What I was thinking was...  ham\n",
       "3  Hi,I have this site that auto generates an ind...  ham\n",
       "4  Author: metzeDate: 2007-04-16 08:20:13 +0000 (...  ham"
      ]
     },
     "execution_count": 6,
     "metadata": {},
     "output_type": "execute_result"
    }
   ],
   "source": [
    "data.head()"
   ]
  },
  {
   "cell_type": "markdown",
   "metadata": {},
   "source": [
    "Here, the target is whether or not a record should be considered as spam. This is recorded as the string 'spam' or 'ham'. To make it a little easier for our classifier, let's recode it as `0` or `1`."
   ]
  },
  {
   "cell_type": "code",
   "execution_count": 7,
   "metadata": {
    "collapsed": false
   },
   "outputs": [],
   "source": [
    "data['spam'] = pd.Series(data['spam'] == 'spam', dtype=int)"
   ]
  },
  {
   "cell_type": "code",
   "execution_count": 8,
   "metadata": {
    "collapsed": false
   },
   "outputs": [
    {
     "data": {
      "text/html": [
       "<div>\n",
       "<table border=\"1\" class=\"dataframe\">\n",
       "  <thead>\n",
       "    <tr style=\"text-align: right;\">\n",
       "      <th></th>\n",
       "      <th>text</th>\n",
       "      <th>spam</th>\n",
       "    </tr>\n",
       "  </thead>\n",
       "  <tbody>\n",
       "    <tr>\n",
       "      <th>0</th>\n",
       "      <td>Hi...I have to use R to find out the 90% confi...</td>\n",
       "      <td>0</td>\n",
       "    </tr>\n",
       "    <tr>\n",
       "      <th>1</th>\n",
       "      <td>Francesco Poli wrote:&gt; On Sun, 15 Apr 2007 21:...</td>\n",
       "      <td>0</td>\n",
       "    </tr>\n",
       "    <tr>\n",
       "      <th>2</th>\n",
       "      <td>Stephen Thorne wrote:&gt; What I was thinking was...</td>\n",
       "      <td>0</td>\n",
       "    </tr>\n",
       "    <tr>\n",
       "      <th>3</th>\n",
       "      <td>Hi,I have this site that auto generates an ind...</td>\n",
       "      <td>0</td>\n",
       "    </tr>\n",
       "    <tr>\n",
       "      <th>4</th>\n",
       "      <td>Author: metzeDate: 2007-04-16 08:20:13 +0000 (...</td>\n",
       "      <td>0</td>\n",
       "    </tr>\n",
       "  </tbody>\n",
       "</table>\n",
       "</div>"
      ],
      "text/plain": [
       "                                                text  spam\n",
       "0  Hi...I have to use R to find out the 90% confi...     0\n",
       "1  Francesco Poli wrote:> On Sun, 15 Apr 2007 21:...     0\n",
       "2  Stephen Thorne wrote:> What I was thinking was...     0\n",
       "3  Hi,I have this site that auto generates an ind...     0\n",
       "4  Author: metzeDate: 2007-04-16 08:20:13 +0000 (...     0"
      ]
     },
     "execution_count": 8,
     "metadata": {},
     "output_type": "execute_result"
    }
   ],
   "source": [
    "data.head()"
   ]
  },
  {
   "cell_type": "markdown",
   "metadata": {},
   "source": [
    "Since we are going to do some modeling, we should split our data into a training and test set."
   ]
  },
  {
   "cell_type": "code",
   "execution_count": 9,
   "metadata": {
    "collapsed": false
   },
   "outputs": [],
   "source": [
    "X = data['text']\n",
    "Y = data['spam']\n",
    "\n",
    "X_train, X_test, Y_train, Y_test = train_test_split(X, Y, train_size=.75)"
   ]
  },
  {
   "cell_type": "markdown",
   "metadata": {},
   "source": [
    "### Text as features\n",
    "How can we turn the large amount of text for each record into useful features?\n",
    "\n",
    "\n",
    "#### Binary representation\n",
    "One way is to create a matrix that uses each word as a feature and keeps track of whether or not a word appears in a document/record. You can do this in sklearn with a `CountVectorizer()` and setting `binary` to `true`. The process is very similar to how you fit a model: you will fit a `CounterVectorizer()`. This will figure out what words exist in your data."
   ]
  },
  {
   "cell_type": "code",
   "execution_count": 10,
   "metadata": {
    "collapsed": false
   },
   "outputs": [
    {
     "data": {
      "text/plain": [
       "CountVectorizer(analyzer=u'word', binary=True, decode_error=u'strict',\n",
       "        dtype=<type 'numpy.int64'>, encoding=u'utf-8', input=u'content',\n",
       "        lowercase=True, max_df=1.0, max_features=None, min_df=1,\n",
       "        ngram_range=(1, 1), preprocessor=None, stop_words=None,\n",
       "        strip_accents=None, token_pattern=u'(?u)\\\\b\\\\w\\\\w+\\\\b',\n",
       "        tokenizer=None, vocabulary=None)"
      ]
     },
     "execution_count": 10,
     "metadata": {},
     "output_type": "execute_result"
    }
   ],
   "source": [
    "binary_vectorizer = CountVectorizer(binary=True)\n",
    "binary_vectorizer.fit(X_train)"
   ]
  },
  {
   "cell_type": "markdown",
   "metadata": {},
   "source": [
    "Let's look at the vocabulary the `CountVectorizer()` learned."
   ]
  },
  {
   "cell_type": "code",
   "execution_count": 13,
   "metadata": {
    "collapsed": false
   },
   "outputs": [
    {
     "data": {
      "text/plain": [
       "[(u'fawn', 27996),\n",
       " (u'somegovernments', 57156),\n",
       " (u'localstatedir', 39335),\n",
       " (u'sonja', 57228),\n",
       " (u'woods', 69328),\n",
       " (u'spiders', 57574),\n",
       " (u'hanging', 31861),\n",
       " (u'woody', 69332),\n",
       " (u'ksh_command', 37609),\n",
       " (u'localized', 39331)]"
      ]
     },
     "execution_count": 13,
     "metadata": {},
     "output_type": "execute_result"
    }
   ],
   "source": [
    "vocabulary_list = list(zip( binary_vectorizer.vocabulary_.keys(), binary_vectorizer.vocabulary_.values()) )\n",
    "\n",
    "vocabulary_list[0:10]"
   ]
  },
  {
   "cell_type": "markdown",
   "metadata": {},
   "source": [
    "Now that we know what words are in the data, we can transform our blobs of text into a clean matrix. Simply `.transform()` the raw data using our fitted `CountVectorizer()`. You will do this for the training and test data. What do you think happens if there are new words in the test data that were not seen in the training data?"
   ]
  },
  {
   "cell_type": "code",
   "execution_count": 14,
   "metadata": {
    "collapsed": false
   },
   "outputs": [],
   "source": [
    "X_train_binary = binary_vectorizer.transform(X_train)\n",
    "X_test_binary = binary_vectorizer.transform(X_test)"
   ]
  },
  {
   "cell_type": "markdown",
   "metadata": {},
   "source": [
    "We can take a look at our new `X_test_counts`."
   ]
  },
  {
   "cell_type": "code",
   "execution_count": 15,
   "metadata": {
    "collapsed": false
   },
   "outputs": [
    {
     "data": {
      "text/plain": [
       "<2028x71157 sparse matrix of type '<type 'numpy.int64'>'\n",
       "\twith 225416 stored elements in Compressed Sparse Row format>"
      ]
     },
     "execution_count": 15,
     "metadata": {},
     "output_type": "execute_result"
    }
   ],
   "source": [
    "X_test_binary"
   ]
  },
  {
   "cell_type": "markdown",
   "metadata": {},
   "source": [
    "Sparse matrix? Where is our data?\n",
    "\n",
    "If you look at the output above, you will see that it is being stored in a *sparse* matrix (as opposed to the typical dense matrix) that is ~2k rows long and ~70k columns. The rows here are records in the original data and the columns are words. Given the shape, this means there are ~140m cells that should have values. However, from the above, we can see that only ~220k cells (~0.15%) of the cells have values! Why is this?\n",
    "\n",
    "To save space, sklearn uses a sparse matrix. This means that only values that are not zero are stored! This saves a ton of space! This also means that visualizing the data is a little trickier. Let's look at a very small chunk."
   ]
  },
  {
   "cell_type": "code",
   "execution_count": 16,
   "metadata": {
    "collapsed": false
   },
   "outputs": [
    {
     "data": {
      "text/plain": [
       "matrix([[0, 0, 1, 0, 0, 0, 0, 0, 0, 0, 0, 0, 0, 0, 0, 0, 0, 0, 0, 0],\n",
       "        [0, 0, 0, 0, 0, 0, 0, 0, 0, 0, 0, 0, 0, 0, 0, 0, 0, 0, 0, 0],\n",
       "        [0, 0, 0, 0, 0, 0, 0, 0, 0, 0, 0, 0, 0, 0, 0, 0, 0, 0, 0, 0],\n",
       "        [0, 0, 0, 0, 0, 0, 0, 0, 0, 0, 0, 0, 0, 0, 0, 0, 0, 0, 0, 0],\n",
       "        [0, 0, 0, 0, 0, 0, 0, 0, 0, 0, 0, 0, 0, 0, 0, 0, 0, 0, 0, 0],\n",
       "        [0, 0, 0, 0, 0, 0, 0, 0, 0, 0, 0, 0, 0, 0, 0, 0, 0, 0, 0, 0],\n",
       "        [0, 0, 0, 0, 0, 0, 0, 0, 0, 0, 0, 0, 0, 0, 0, 0, 0, 0, 0, 0],\n",
       "        [0, 0, 0, 0, 0, 0, 0, 0, 0, 0, 0, 0, 0, 0, 0, 0, 0, 0, 0, 0],\n",
       "        [1, 0, 0, 0, 0, 0, 0, 0, 0, 0, 0, 0, 0, 0, 0, 0, 0, 0, 0, 0],\n",
       "        [0, 0, 0, 0, 0, 0, 0, 0, 0, 0, 0, 0, 0, 0, 0, 0, 0, 0, 0, 0],\n",
       "        [0, 0, 0, 0, 0, 0, 0, 0, 0, 0, 0, 0, 0, 0, 0, 0, 0, 0, 0, 0],\n",
       "        [0, 0, 0, 0, 0, 0, 0, 0, 0, 0, 0, 0, 0, 0, 0, 0, 0, 0, 0, 0],\n",
       "        [1, 1, 0, 0, 0, 0, 0, 0, 0, 0, 0, 0, 0, 0, 0, 0, 0, 0, 0, 0],\n",
       "        [0, 0, 0, 0, 0, 0, 0, 0, 0, 0, 0, 0, 0, 0, 0, 0, 0, 0, 0, 0],\n",
       "        [1, 0, 1, 0, 0, 0, 0, 0, 0, 0, 0, 0, 0, 0, 0, 0, 0, 0, 0, 0],\n",
       "        [0, 0, 0, 0, 0, 0, 0, 0, 0, 0, 0, 0, 0, 0, 0, 0, 0, 0, 0, 0],\n",
       "        [0, 0, 0, 0, 0, 0, 0, 0, 0, 0, 0, 0, 0, 0, 0, 0, 0, 0, 0, 0],\n",
       "        [0, 0, 0, 0, 0, 0, 0, 0, 0, 0, 0, 0, 0, 0, 0, 0, 0, 0, 0, 0],\n",
       "        [0, 0, 0, 0, 0, 0, 0, 0, 0, 0, 0, 0, 0, 0, 0, 0, 0, 0, 0, 0],\n",
       "        [0, 1, 0, 0, 0, 0, 0, 0, 0, 0, 0, 0, 0, 0, 0, 0, 0, 0, 0, 0]])"
      ]
     },
     "execution_count": 16,
     "metadata": {},
     "output_type": "execute_result"
    }
   ],
   "source": [
    "X_test_binary[0:20, 0:20].todense()"
   ]
  },
  {
   "cell_type": "markdown",
   "metadata": {},
   "source": [
    "#### Applying a model\n",
    "Now that we have a ton of features (since we have a ton of words!) let's try using a logistic regression model to predict spam/ham."
   ]
  },
  {
   "cell_type": "code",
   "execution_count": 17,
   "metadata": {
    "collapsed": false
   },
   "outputs": [
    {
     "name": "stdout",
     "output_type": "stream",
     "text": [
      "Area under the ROC curve on test data = 0.996\n"
     ]
    }
   ],
   "source": [
    "model = LogisticRegression()\n",
    "model.fit(X_train_binary, Y_train)\n",
    "\n",
    "print (\"Area under the ROC curve on test data = %.3f\" % metrics.roc_auc_score(model.predict(X_test_binary), Y_test))"
   ]
  },
  {
   "cell_type": "markdown",
   "metadata": {},
   "source": [
    "Is this any good? What do we care about in this case? Let's take a look at our ROC measure in more detail by looking at the actual ROC curve."
   ]
  },
  {
   "cell_type": "code",
   "execution_count": 18,
   "metadata": {
    "collapsed": false
   },
   "outputs": [
    {
     "data": {
      "image/png": "iVBORw0KGgoAAAANSUhEUgAAAmQAAAHwCAYAAAAIDnN0AAAABHNCSVQICAgIfAhkiAAAAAlwSFlz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\n",
      "text/plain": [
       "<matplotlib.figure.Figure at 0x10f1cc790>"
      ]
     },
     "metadata": {},
     "output_type": "display_data"
    }
   ],
   "source": [
    "fpr, tpr, thresholds = metrics.roc_curve(Y_test, model.predict_proba(X_test_binary)[:,1])\n",
    "\n",
    "#tprs.append(tpr)\n",
    "#fprs.append(fpr)\n",
    "#roc_labels.append(\"Default Binary\")\n",
    "\n",
    "ax = plt.subplot()\n",
    "plt.plot(fpr, tpr)\n",
    "plt.xlabel(\"fpr\")\n",
    "plt.ylabel(\"tpr\")\n",
    "plt.title(\"ROC Curve\")\n",
    "#plt.yscale('log')\n",
    "#plt.xscale('log')\n",
    "plt.show()"
   ]
  },
  {
   "cell_type": "markdown",
   "metadata": {},
   "source": [
    " **Yikes! That looks perfect.  Let's zoom in!**\n"
   ]
  },
  {
   "cell_type": "code",
   "execution_count": 19,
   "metadata": {
    "collapsed": false
   },
   "outputs": [
    {
     "data": {
      "image/png": "iVBORw0KGgoAAAANSUhEUgAAAn8AAAHwCAYAAADXQAlrAAAABHNCSVQICAgIfAhkiAAAAAlwSFlz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\n",
      "text/plain": [
       "<matplotlib.figure.Figure at 0x10f1ccc90>"
      ]
     },
     "metadata": {},
     "output_type": "display_data"
    }
   ],
   "source": [
    "fpr, tpr, thresholds = metrics.roc_curve(Y_test, model.predict_proba(X_test_binary)[:,1])\n",
    "\n",
    "tprs.append(tpr)\n",
    "fprs.append(fpr)\n",
    "roc_labels.append(\"Default Binary\")\n",
    "\n",
    "ax = plt.subplot()\n",
    "plt.plot(fpr, tpr)\n",
    "plt.xlabel(\"fpr\")\n",
    "plt.ylabel(\"tpr\")\n",
    "plt.title(\"ROC Curve\")\n",
    "plt.xlim([0, .07])\n",
    "plt.ylim([.98, 1.001])\n",
    "plt.show()"
   ]
  },
  {
   "cell_type": "markdown",
   "metadata": {},
   "source": [
    "#### Counts instead of binary\n",
    "Instead of using a 0 or 1 to represent the occurence of a word, we can use the actual counts. We do this the same way as before, but now we leave `binary` set to `false` (the default value)."
   ]
  },
  {
   "cell_type": "code",
   "execution_count": 20,
   "metadata": {
    "collapsed": false
   },
   "outputs": [
    {
     "name": "stdout",
     "output_type": "stream",
     "text": [
      "Area under the ROC curve on test data = 0.995\n"
     ]
    }
   ],
   "source": [
    "# Fit a counter\n",
    "count_vectorizer = CountVectorizer()\n",
    "count_vectorizer.fit(X_train)\n",
    "\n",
    "# Transform to counter\n",
    "X_train_counts = count_vectorizer.transform(X_train)\n",
    "X_test_counts = count_vectorizer.transform(X_test)\n",
    "\n",
    "# Model\n",
    "model = LogisticRegression()\n",
    "model.fit(X_train_counts, Y_train)\n",
    "\n",
    "print (\"Area under the ROC curve on test data = %.3f\" % metrics.roc_auc_score(model.predict(X_test_counts), Y_test))"
   ]
  },
  {
   "cell_type": "markdown",
   "metadata": {},
   "source": [
    "We can also take a look at the ROC curve."
   ]
  },
  {
   "cell_type": "code",
   "execution_count": 21,
   "metadata": {
    "collapsed": false
   },
   "outputs": [
    {
     "data": {
      "image/png": "iVBORw0KGgoAAAANSUhEUgAAAnkAAAHwCAYAAADaXnksAAAABHNCSVQICAgIfAhkiAAAAAlwSFlz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\nGmTIkyRJatD/Bw+u0uh7HYMXAAAAAElFTkSuQmCC\n",
      "text/plain": [
       "<matplotlib.figure.Figure at 0x120972910>"
      ]
     },
     "metadata": {},
     "output_type": "display_data"
    }
   ],
   "source": [
    "fpr, tpr, thresholds = metrics.roc_curve(Y_test, model.predict_proba(X_test_counts)[:,1])\n",
    "\n",
    "tprs.append(tpr)\n",
    "fprs.append(fpr)\n",
    "roc_labels.append(\"Default Counts\")\n",
    "\n",
    "ax = plt.subplot()\n",
    "plt.plot(fpr, tpr)\n",
    "plt.xlabel(\"fpr\")\n",
    "plt.ylabel(\"tpr\")\n",
    "plt.title(\"ROC Curve\")\n",
    "plt.xlim([0, .07])\n",
    "plt.ylim([.96, 1.001])\n",
    "\n",
    "plt.show()"
   ]
  },
  {
   "cell_type": "markdown",
   "metadata": {},
   "source": [
    "#### Tf-idf\n",
    "Another popular technique when dealing with text is to use the term frequency - inverse document frequency (tf-idf) measure instead of just counts as the feature values (see text)."
   ]
  },
  {
   "cell_type": "code",
   "execution_count": 22,
   "metadata": {
    "collapsed": false
   },
   "outputs": [
    {
     "name": "stdout",
     "output_type": "stream",
     "text": [
      "Area under the ROC curve on test data = 0.986\n"
     ]
    }
   ],
   "source": [
    "# Fit a counter\n",
    "tfidf_vectorizer = TfidfVectorizer()\n",
    "tfidf_vectorizer.fit(X_train)\n",
    "\n",
    "# Transform to a counter\n",
    "X_train_tfidf = tfidf_vectorizer.transform(X_train)\n",
    "X_test_tfidf = tfidf_vectorizer.transform(X_test)\n",
    "\n",
    "# Model\n",
    "model = LogisticRegression()\n",
    "model.fit(X_train_tfidf, Y_train)\n",
    "\n",
    "print (\"Area under the ROC curve on test data = %.3f\" % metrics.roc_auc_score(model.predict(X_test_counts), Y_test))"
   ]
  },
  {
   "cell_type": "markdown",
   "metadata": {},
   "source": [
    "Once again, we can look at the ROC curve."
   ]
  },
  {
   "cell_type": "code",
   "execution_count": 23,
   "metadata": {
    "collapsed": false
   },
   "outputs": [
    {
     "data": {
      "image/png": "iVBORw0KGgoAAAANSUhEUgAAAnkAAAHwCAYAAADaXnksAAAABHNCSVQICAgIfAhkiAAAAAlwSFlz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\n",
      "text/plain": [
       "<matplotlib.figure.Figure at 0x1198d0b10>"
      ]
     },
     "metadata": {},
     "output_type": "display_data"
    }
   ],
   "source": [
    "fpr, tpr, thresholds = metrics.roc_curve(Y_test, model.predict_proba(X_test_tfidf)[:,1])\n",
    "\n",
    "tprs.append(tpr)\n",
    "fprs.append(fpr)\n",
    "roc_labels.append(\"Default Tfidf\")\n",
    "\n",
    "ax = plt.subplot()\n",
    "plt.plot(fpr, tpr)\n",
    "plt.xlabel(\"fpr\")\n",
    "plt.ylabel(\"tpr\")\n",
    "plt.title(\"ROC Curve\")\n",
    "\n",
    "plt.xlim([0, .07])\n",
    "plt.ylim([.96, 1.001])\n",
    "\n",
    "plt.show()"
   ]
  },
  {
   "cell_type": "markdown",
   "metadata": {},
   "source": [
    "The `CountVectorizer()` and `TfidfVectorizer()` functions have many options. You can restrict the words you would like in the vocabulary. You can add n-grams. You can use stop word lists. Which options you should use generally depend on the type of data you are dealing with. We can discuss and try some of them now."
   ]
  },
  {
   "cell_type": "markdown",
   "metadata": {},
   "source": [
    "Now that we have a few different feature sets and models, let's look at all of our ROC curves."
   ]
  },
  {
   "cell_type": "code",
   "execution_count": 24,
   "metadata": {
    "collapsed": false
   },
   "outputs": [
    {
     "data": {
      "image/png": "iVBORw0KGgoAAAANSUhEUgAAAn8AAAHwCAYAAADXQAlrAAAABHNCSVQICAgIfAhkiAAAAAlwSFlz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\n",
      "text/plain": [
       "<matplotlib.figure.Figure at 0x11c96fa90>"
      ]
     },
     "metadata": {},
     "output_type": "display_data"
    }
   ],
   "source": [
    "for fpr, tpr, roc_label in zip(fprs, tprs, roc_labels):\n",
    "    plt.plot(fpr, tpr, label=roc_label)\n",
    "\n",
    "plt.xlabel(\"fpr\")\n",
    "plt.ylabel(\"tpr\")\n",
    "plt.title(\"ROC Curves\")\n",
    "plt.legend()\n",
    "\n",
    "plt.xlim([0, .07])\n",
    "plt.ylim([.98, 1.001])\n",
    "\n",
    "plt.show()"
   ]
  },
  {
   "cell_type": "markdown",
   "metadata": {},
   "source": [
    "### Modeling with another technique: Naive Bayes\n",
    "\n",
    "So far we have been exposed to tree classifiers and logistic regression in class. We have also seen SVM model in the homework. Now, it's time for another popular modeling technique of supervised learning(especially in text classification): the Naive Bayes (NB) classifier. In particular, we are using a Bernoulli Naive Bayes (BNB) for our binary classification. (Bernoulli NB is the model described in the book; there are other versions of NB, see below.)\n",
    "\n",
    "As described in your text, the Naive Bayes model is a **probabilistic approach which assumes conditional independence between features** (in this case, each word is a feature, the conditioning is on the true class). It assigns class labels (e.g. spam = 1 or spam = 0). In other words, Naive Bayes models the probabilities of the presence of each _word_, given that we have a spam email, and given that we have a non-spam email.  Then it combines them using Bayes Theorem (again, as described in the book).\n",
    "\n",
    "Using this model in sklearn works just the same as the others we've seen ([More details here..](http://scikit-learn.org/stable/modules/naive_bayes.html))\n",
    "\n",
    "- Choose the model\n",
    "- Fit the model (Train)\n",
    "- Predict with the model (Train or Test or Use data)"
   ]
  },
  {
   "cell_type": "code",
   "execution_count": 25,
   "metadata": {
    "collapsed": false
   },
   "outputs": [
    {
     "data": {
      "text/plain": [
       "BernoulliNB(alpha=1.0, binarize=0.0, class_prior=None, fit_prior=True)"
      ]
     },
     "execution_count": 25,
     "metadata": {},
     "output_type": "execute_result"
    }
   ],
   "source": [
    "from sklearn.naive_bayes import BernoulliNB\n",
    "\n",
    "model = BernoulliNB()\n",
    "model.fit(X_train_binary, Y_train)\n"
   ]
  },
  {
   "cell_type": "code",
   "execution_count": 26,
   "metadata": {
    "collapsed": false
   },
   "outputs": [
    {
     "name": "stdout",
     "output_type": "stream",
     "text": [
      "AUC on the count TRAIN data = 0.981\n",
      "AUC on the count TEST data = 0.976\n"
     ]
    }
   ],
   "source": [
    "print (\"AUC on the count TRAIN data = %.3f\" % metrics.roc_auc_score(model.predict(X_train_binary), Y_train))\n",
    "print (\"AUC on the count TEST data = %.3f\" % metrics.roc_auc_score(model.predict(X_test_binary), Y_test))"
   ]
  },
  {
   "cell_type": "markdown",
   "metadata": {},
   "source": [
    "The past few weeks we have seen that many of the models we are using have different complexity control parameters that can be tweaked. In naive Bayes, the parameter that is typically tuned is the Laplace smoothing value **`alpha`**.\n",
    "\n",
    "Also, there are other versions of naive Bayes:\n",
    "\n",
    "1. **Multinomial naive Bayes (MNB):** This model handles count features and not just binary features. Sometimes MNB is used with binary presence/absence variables anyway (like word presence), even though that violates the model assumptions, because in practice it works well anyway.\n",
    "2. **Gaussian Naive Bayes (GNB):** This model considers likelihood of the features as Gaussian--and thus we can use it for continuous features.  Sometimes GNB and Bernoulli NB are combined when one has features of mixed types.  "
   ]
  },
  {
   "cell_type": "code",
   "execution_count": 27,
   "metadata": {
    "collapsed": false
   },
   "outputs": [
    {
     "data": {
      "image/png": "iVBORw0KGgoAAAANSUhEUgAAAnkAAAHwCAYAAADaXnksAAAABHNCSVQICAgIfAhkiAAAAAlwSFlz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\n",
      "text/plain": [
       "<matplotlib.figure.Figure at 0x1226d6550>"
      ]
     },
     "metadata": {},
     "output_type": "display_data"
    }
   ],
   "source": [
    "\n",
    "## Include the false positives and true positives to the previous list\n",
    "\n",
    "fpr, tpr, thresholds = metrics.roc_curve(Y_test, model.predict_proba(X_test_tfidf)[:,1])\n",
    "\n",
    "tprs.append(tpr)\n",
    "fprs.append(fpr)\n",
    "roc_labels.append(\"Default BNB\")\n",
    "\n",
    "\n",
    "\n",
    "## Plot the list again: 3 Logistic Regressions vs Naive Bayes\n",
    "\n",
    "for fpr, tpr, roc_label in zip(fprs, tprs, roc_labels):\n",
    "    plt.plot(fpr, tpr, label=roc_label)\n",
    "\n",
    "plt.xlabel(\"fpr\")\n",
    "plt.ylabel(\"tpr\")\n",
    "plt.title(\"ROC Curves\")\n",
    "plt.legend()\n",
    "\n",
    "plt.xlim([0, .07])\n",
    "plt.ylim([.97, 1.001])\n",
    "\n",
    "plt.show()"
   ]
  }
 ],
 "metadata": {
  "kernelspec": {
   "display_name": "Python 2",
   "language": "python",
   "name": "python2"
  },
  "language_info": {
   "codemirror_mode": {
    "name": "ipython",
    "version": 2
   },
   "file_extension": ".py",
   "mimetype": "text/x-python",
   "name": "python",
   "nbconvert_exporter": "python",
   "pygments_lexer": "ipython2",
   "version": "2.7.13"
  }
 },
 "nbformat": 4,
 "nbformat_minor": 0
}
>>>>>>> Stashed changes
