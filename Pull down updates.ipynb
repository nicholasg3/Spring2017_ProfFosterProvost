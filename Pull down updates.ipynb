{
 "cells": [
  {
   "cell_type": "code",
   "execution_count": 1,
   "metadata": {},
   "outputs": [
    {
     "name": "stdout",
     "output_type": "stream",
     "text": [
      "No local changes to save\n",
      "Already up to date.\n",
      "Current branch Spring2018_DM is up to date.\n",
      "Auto-merging Pull down updates.ipynb\n",
      "CONFLICT (content): Merge conflict in Pull down updates.ipynb\n",
      "Auto-merging Module6_Text_NaiveBayes/Patterns_highlights_2018.ipynb\n",
      "CONFLICT (content): Merge conflict in Module6_Text_NaiveBayes/Patterns_highlights_2018.ipynb\n",
      "Auto-merging Module6_Text_NaiveBayes/Dealing_with_text_Naive_Bayes_2018.ipynb\n",
      "CONFLICT (content): Merge conflict in Module6_Text_NaiveBayes/Dealing_with_text_Naive_Bayes_2018.ipynb\n",
      "CONFLICT (modify/delete): Module5_ROC_Cost_Visualization/ROC_LIFT_costs_Model_assessment_2018.ipynb deleted in Updated upstream and modified in Stashed changes. Version Stashed changes of Module5_ROC_Cost_Visualization/ROC_LIFT_costs_Model_assessment_2018.ipynb left in tree.\n",
      "Auto-merging Module5_ROC_Cost_Visualization/LinearModels_Trees.ipynb\n",
      "CONFLICT (content): Merge conflict in Module5_ROC_Cost_Visualization/LinearModels_Trees.ipynb\n",
      "CONFLICT (modify/delete): Module4_Regularization/Regularization_and_Model_assessment.ipynb deleted in Updated upstream and modified in Stashed changes. Version Stashed changes of Module4_Regularization/Regularization_and_Model_assessment.ipynb left in tree.\n",
      "Auto-merging Module4_Regularization/Regularization_Learning-curves_Model_assessment_2018.ipynb\n",
      "CONFLICT (content): Merge conflict in Module4_Regularization/Regularization_Learning-curves_Model_assessment_2018.ipynb\n",
      "CONFLICT (modify/delete): Module3_Fitting_CrossVal/Fitting and Overfitting.ipynb deleted in Updated upstream and modified in Stashed changes. Version Stashed changes of Module3_Fitting_CrossVal/Fitting and Overfitting.ipynb left in tree.\n",
      "CONFLICT (modify/delete): Module3_Fitting_CrossVal/.ipynb_checkpoints/Fitting and Overfitting-checkpoint.ipynb deleted in Updated upstream and modified in Stashed changes. Version Stashed changes of Module3_Fitting_CrossVal/.ipynb_checkpoints/Fitting and Overfitting-checkpoint.ipynb left in tree.\n",
      "Removing Untitled.ipynb\n"
     ]
    }
   ],
   "source": [
    "# running this cell updates the repository with any new contents\n",
    "!git stash && git pull --rebase && git stash pop\n",
    "!git clean -f"
   ]
  },
  {
   "cell_type": "code",
   "execution_count": null,
   "metadata": {
    "collapsed": true
   },
   "outputs": [],
   "source": []
  }
 ],
 "metadata": {
  "kernelspec": {
   "display_name": "Python 3",
   "language": "python",
   "name": "python3"
  },
  "language_info": {
   "codemirror_mode": {
    "name": "ipython",
    "version": 3
   },
   "file_extension": ".py",
   "mimetype": "text/x-python",
   "name": "python",
   "nbconvert_exporter": "python",
   "pygments_lexer": "ipython3",
   "version": "3.5.3"
  }
 },
 "nbformat": 4,
 "nbformat_minor": 1
}
