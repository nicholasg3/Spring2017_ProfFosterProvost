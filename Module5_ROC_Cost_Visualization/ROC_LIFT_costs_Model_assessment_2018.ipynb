{
 "cells": [
  {
   "cell_type": "markdown",
   "metadata": {},
   "source": [
    "# Model Analytics & the Science of Predictive Modeling\n",
    "## Regularization and Model Assessment\n",
    "\n",
    "Spring 2018 - Prof. Foster Provost\n",
    "\n",
    "Teacher Assistant: Nicholas Garcia\n",
    "\n",
    "\n",
    "***"
   ]
  },
  {
   "cell_type": "markdown",
   "metadata": {},
   "source": [
    "Import all of the packages we will need."
   ]
  },
  {
   "cell_type": "code",
   "execution_count": 1,
   "metadata": {},
   "outputs": [],
   "source": [
    "# Import the libraries we will be using\n",
    "import numpy as np\n",
    "import pandas as pd\n",
    "from sklearn.tree import DecisionTreeClassifier\n",
    "from sklearn.linear_model import LogisticRegression\n",
    "from sklearn.svm import SVC\n",
    "from sklearn import metrics\n",
    "from sklearn.model_selection import cross_val_score\n",
    "from sklearn.model_selection import train_test_split\n",
    "\n",
    "from dstools import data_tools\n",
    "\n",
    "import matplotlib.pylab as plt\n",
    "%matplotlib inline\n",
    "plt.rcParams['figure.figsize'] = 10, 8"
   ]
  },
  {
   "cell_type": "markdown",
   "metadata": {},
   "source": [
    "### Data\n",
    "We're going to use a mail response data set from a real direct marketing campaign located in `data/mailing.csv`. Each record represents an individual who was targeted with a direct marketing offer.  The offer was a solicitation to make a charitable donation. \n",
    "\n",
    "The columns (features) are:\n",
    "\n",
    "```\n",
    "income       household income\n",
    "Firstdate    data assoc. with the first gift by this individual\n",
    "Lastdate     data associated with the most recent gift \n",
    "Amount       average amount by this individual over all periods (incl. zeros)\n",
    "rfaf2        frequency code\n",
    "rfaa2        donation amount code\n",
    "pepstrfl     flag indicating a star donator\n",
    "glast        amount of last gift\n",
    "gavr         amount of average gift\n",
    "```\n",
    "\n",
    "The target variables is `class` and is equal to one if they gave in this campaign and zero otherwise."
   ]
  },
  {
   "cell_type": "code",
   "execution_count": 2,
   "metadata": {},
   "outputs": [
    {
     "data": {
      "text/html": [
       "<div>\n",
       "<style scoped>\n",
       "    .dataframe tbody tr th:only-of-type {\n",
       "        vertical-align: middle;\n",
       "    }\n",
       "\n",
       "    .dataframe tbody tr th {\n",
       "        vertical-align: top;\n",
       "    }\n",
       "\n",
       "    .dataframe thead th {\n",
       "        text-align: right;\n",
       "    }\n",
       "</style>\n",
       "<table border=\"1\" class=\"dataframe\">\n",
       "  <thead>\n",
       "    <tr style=\"text-align: right;\">\n",
       "      <th></th>\n",
       "      <th>Income</th>\n",
       "      <th>Firstdate</th>\n",
       "      <th>Lastdate</th>\n",
       "      <th>Amount</th>\n",
       "      <th>rfaf2</th>\n",
       "      <th>rfaa2</th>\n",
       "      <th>pepstrfl</th>\n",
       "      <th>glast</th>\n",
       "      <th>gavr</th>\n",
       "      <th>class</th>\n",
       "    </tr>\n",
       "  </thead>\n",
       "  <tbody>\n",
       "    <tr>\n",
       "      <th>0</th>\n",
       "      <td>3</td>\n",
       "      <td>9409</td>\n",
       "      <td>9509</td>\n",
       "      <td>0.06</td>\n",
       "      <td>1</td>\n",
       "      <td>G</td>\n",
       "      <td>0</td>\n",
       "      <td>50</td>\n",
       "      <td>30.00</td>\n",
       "      <td>0</td>\n",
       "    </tr>\n",
       "    <tr>\n",
       "      <th>1</th>\n",
       "      <td>2</td>\n",
       "      <td>9201</td>\n",
       "      <td>9602</td>\n",
       "      <td>0.16</td>\n",
       "      <td>4</td>\n",
       "      <td>G</td>\n",
       "      <td>X</td>\n",
       "      <td>20</td>\n",
       "      <td>20.55</td>\n",
       "      <td>1</td>\n",
       "    </tr>\n",
       "    <tr>\n",
       "      <th>2</th>\n",
       "      <td>0</td>\n",
       "      <td>9510</td>\n",
       "      <td>9603</td>\n",
       "      <td>0.20</td>\n",
       "      <td>4</td>\n",
       "      <td>E</td>\n",
       "      <td>0</td>\n",
       "      <td>5</td>\n",
       "      <td>8.75</td>\n",
       "      <td>0</td>\n",
       "    </tr>\n",
       "    <tr>\n",
       "      <th>3</th>\n",
       "      <td>6</td>\n",
       "      <td>9409</td>\n",
       "      <td>9603</td>\n",
       "      <td>0.13</td>\n",
       "      <td>2</td>\n",
       "      <td>G</td>\n",
       "      <td>0</td>\n",
       "      <td>25</td>\n",
       "      <td>22.50</td>\n",
       "      <td>0</td>\n",
       "    </tr>\n",
       "    <tr>\n",
       "      <th>4</th>\n",
       "      <td>0</td>\n",
       "      <td>9310</td>\n",
       "      <td>9511</td>\n",
       "      <td>0.10</td>\n",
       "      <td>1</td>\n",
       "      <td>G</td>\n",
       "      <td>0</td>\n",
       "      <td>25</td>\n",
       "      <td>12.50</td>\n",
       "      <td>0</td>\n",
       "    </tr>\n",
       "  </tbody>\n",
       "</table>\n",
       "</div>"
      ],
      "text/plain": [
       "   Income  Firstdate  Lastdate  Amount  rfaf2 rfaa2 pepstrfl  glast   gavr  \\\n",
       "0       3       9409      9509    0.06      1     G        0     50  30.00   \n",
       "1       2       9201      9602    0.16      4     G        X     20  20.55   \n",
       "2       0       9510      9603    0.20      4     E        0      5   8.75   \n",
       "3       6       9409      9603    0.13      2     G        0     25  22.50   \n",
       "4       0       9310      9511    0.10      1     G        0     25  12.50   \n",
       "\n",
       "   class  \n",
       "0      0  \n",
       "1      1  \n",
       "2      0  \n",
       "3      0  \n",
       "4      0  "
      ]
     },
     "execution_count": 2,
     "metadata": {},
     "output_type": "execute_result"
    }
   ],
   "source": [
    "# Load the data\n",
    "data = pd.read_csv(\"data/mailing.csv\")\n",
    "# Let's take a look at the data\n",
    "data.head()\n"
   ]
  },
  {
   "cell_type": "markdown",
   "metadata": {},
   "source": [
    "From the description above, and the head of the data, we see that two of the fields are **categorical** (text) instead of the typical **numerical** fields we have been looking at until this point. Today, one of the models we will be using is a logistic regression. From the previous classes, we have seen that logistic regression requires *all* fields to be numerical. To do this, we are going to create \"dummy\" variables for all the fields that are categorical.\n",
    "\n",
    "#### Dummyize\n",
    "A dummy variable is a binary variable corresponding to one value of a categorical variable.\n",
    "The typical way to create dummies for a field is to create new variables for each possible category of the field. For example consider a field called color that can have the possible values \"red\", \"blue\", and \"green\". To dummyize color, we would create three new features: \"color_red\", \"color_blue\", and \"color_green\". These fields would take the value 1 or 0 depending on the actual value of color. Each record can only have one of these fields set to 1!\n",
    "\n",
    "Notes:\n",
    "\n",
    "- You can also leave out one of the possible categories. For example, in the above example that had three possible values, you can create only two dummies. This, because when \"color_red\"=0 and \"color_blue\"=0 it means that \"color_green=1\".  Often all three dummies are created anyway; it is slightly redundant, but makes the models more comprehensible.\n",
    "\n",
    "- There also are cases where non-numeric variables can take on multiple values (for example, `colors = {red, white, blue}`).  In these cases again often binary variables are created for each value, the obvious difference being that now more than one can be non-zero (and you would need to represent all the values).\n",
    " \n",
    "\n",
    "So.  Let's dummyize the fields `rfaa2` and `pepstrfl`."
   ]
  },
  {
   "cell_type": "code",
   "execution_count": 3,
   "metadata": {},
   "outputs": [
    {
     "data": {
      "text/html": [
       "<div>\n",
       "<style scoped>\n",
       "    .dataframe tbody tr th:only-of-type {\n",
       "        vertical-align: middle;\n",
       "    }\n",
       "\n",
       "    .dataframe tbody tr th {\n",
       "        vertical-align: top;\n",
       "    }\n",
       "\n",
       "    .dataframe thead th {\n",
       "        text-align: right;\n",
       "    }\n",
       "</style>\n",
       "<table border=\"1\" class=\"dataframe\">\n",
       "  <thead>\n",
       "    <tr style=\"text-align: right;\">\n",
       "      <th></th>\n",
       "      <th>Income</th>\n",
       "      <th>Firstdate</th>\n",
       "      <th>Lastdate</th>\n",
       "      <th>Amount</th>\n",
       "      <th>rfaf2</th>\n",
       "      <th>glast</th>\n",
       "      <th>gavr</th>\n",
       "      <th>class</th>\n",
       "      <th>rfaa2_G</th>\n",
       "      <th>rfaa2_E</th>\n",
       "      <th>rfaa2_F</th>\n",
       "      <th>rfaa2_D</th>\n",
       "      <th>pepstrfl_0</th>\n",
       "      <th>pepstrfl_X</th>\n",
       "    </tr>\n",
       "  </thead>\n",
       "  <tbody>\n",
       "    <tr>\n",
       "      <th>0</th>\n",
       "      <td>3</td>\n",
       "      <td>9409</td>\n",
       "      <td>9509</td>\n",
       "      <td>0.06</td>\n",
       "      <td>1</td>\n",
       "      <td>50</td>\n",
       "      <td>30.00</td>\n",
       "      <td>0</td>\n",
       "      <td>1</td>\n",
       "      <td>0</td>\n",
       "      <td>0</td>\n",
       "      <td>0</td>\n",
       "      <td>1</td>\n",
       "      <td>0</td>\n",
       "    </tr>\n",
       "    <tr>\n",
       "      <th>1</th>\n",
       "      <td>2</td>\n",
       "      <td>9201</td>\n",
       "      <td>9602</td>\n",
       "      <td>0.16</td>\n",
       "      <td>4</td>\n",
       "      <td>20</td>\n",
       "      <td>20.55</td>\n",
       "      <td>1</td>\n",
       "      <td>1</td>\n",
       "      <td>0</td>\n",
       "      <td>0</td>\n",
       "      <td>0</td>\n",
       "      <td>0</td>\n",
       "      <td>1</td>\n",
       "    </tr>\n",
       "    <tr>\n",
       "      <th>2</th>\n",
       "      <td>0</td>\n",
       "      <td>9510</td>\n",
       "      <td>9603</td>\n",
       "      <td>0.20</td>\n",
       "      <td>4</td>\n",
       "      <td>5</td>\n",
       "      <td>8.75</td>\n",
       "      <td>0</td>\n",
       "      <td>0</td>\n",
       "      <td>1</td>\n",
       "      <td>0</td>\n",
       "      <td>0</td>\n",
       "      <td>1</td>\n",
       "      <td>0</td>\n",
       "    </tr>\n",
       "    <tr>\n",
       "      <th>3</th>\n",
       "      <td>6</td>\n",
       "      <td>9409</td>\n",
       "      <td>9603</td>\n",
       "      <td>0.13</td>\n",
       "      <td>2</td>\n",
       "      <td>25</td>\n",
       "      <td>22.50</td>\n",
       "      <td>0</td>\n",
       "      <td>1</td>\n",
       "      <td>0</td>\n",
       "      <td>0</td>\n",
       "      <td>0</td>\n",
       "      <td>1</td>\n",
       "      <td>0</td>\n",
       "    </tr>\n",
       "    <tr>\n",
       "      <th>4</th>\n",
       "      <td>0</td>\n",
       "      <td>9310</td>\n",
       "      <td>9511</td>\n",
       "      <td>0.10</td>\n",
       "      <td>1</td>\n",
       "      <td>25</td>\n",
       "      <td>12.50</td>\n",
       "      <td>0</td>\n",
       "      <td>1</td>\n",
       "      <td>0</td>\n",
       "      <td>0</td>\n",
       "      <td>0</td>\n",
       "      <td>1</td>\n",
       "      <td>0</td>\n",
       "    </tr>\n",
       "  </tbody>\n",
       "</table>\n",
       "</div>"
      ],
      "text/plain": [
       "   Income  Firstdate  Lastdate  Amount  rfaf2  glast   gavr  class  rfaa2_G  \\\n",
       "0       3       9409      9509    0.06      1     50  30.00      0        1   \n",
       "1       2       9201      9602    0.16      4     20  20.55      1        1   \n",
       "2       0       9510      9603    0.20      4      5   8.75      0        0   \n",
       "3       6       9409      9603    0.13      2     25  22.50      0        1   \n",
       "4       0       9310      9511    0.10      1     25  12.50      0        1   \n",
       "\n",
       "   rfaa2_E  rfaa2_F  rfaa2_D  pepstrfl_0  pepstrfl_X  \n",
       "0        0        0        0           1           0  \n",
       "1        0        0        0           0           1  \n",
       "2        1        0        0           1           0  \n",
       "3        0        0        0           1           0  \n",
       "4        0        0        0           1           0  "
      ]
     },
     "execution_count": 3,
     "metadata": {},
     "output_type": "execute_result"
    }
   ],
   "source": [
    "for field in ['rfaa2', 'pepstrfl']:\n",
    "    # Go through each possible value \n",
    "    for value in data[field].unique():\n",
    "        # Create a new binary field\n",
    "        data[field + \"_\" + value] = pd.Series(data[field] == value, dtype=int)\n",
    "\n",
    "    # Drop the original field\n",
    "    data = data.drop([field], axis=1)\n",
    "    \n",
    "    \n",
    "data.head()"
   ]
  },
  {
   "cell_type": "markdown",
   "metadata": {},
   "source": [
    "### Confusion matrices\n",
    "Let's build a confusion matrix using a logistic regression model. \n",
    "\n",
    "**Important and overlooked (always remember this!):** a confusion matrix is defined with respect to a classifier, not a scoring model (e.g., a class-probability estimation model).  Our models *are* scoring models.  So the confusion matrices are defined with respect a scoring model plus a *threshold* on the score.  The threshold should be chosen carefully, and with the business need in mind.   For binary classes, the default for most modeling programs when they return a predicted classification is to use a threshold corresponding to an estimated class probability of 0.5.  This is because the modeling program does not know the business setting, and 0.5 makes sense as a default (in expectation it gives the maximum classification accuracy, if the probabilities are well calibrated).\n",
    "\n",
    "So let's start with the default of predicting a 1 if the estimated probability is $\\geq$ 50% and a 0 otherwise.\n",
    "\n",
    "Remember, a confusion matrix looks like:\n",
    "\n",
    "```\n",
    "  |____________ p __________|___________ n ___________|\n",
    "Y | 1's predicted to be 1's | 0's predicted to be 1's |\n",
    "N | 1's predicted to be 0's | 0's predicted to be 0's |\n",
    "```"
   ]
  },
  {
   "cell_type": "code",
   "execution_count": 4,
   "metadata": {},
   "outputs": [
    {
     "name": "stderr",
     "output_type": "stream",
     "text": [
      "/usr/local/lib/python3.5/dist-packages/sklearn/model_selection/_split.py:2026: FutureWarning: From version 0.21, test_size will always complement train_size unless both are specified.\n",
      "  FutureWarning)\n"
     ]
    }
   ],
   "source": [
    "# Split our data\n",
    "X = data.drop(['class'], axis=1)\n",
    "Y = data['class']\n",
    "X_mailing_train, X_mailing_test, Y_mailing_train, Y_mailing_test = train_test_split(X, Y, train_size=.75)\n",
    "\n",
    "# Make and fit a model on the training data\n",
    "model_mailing = LogisticRegression(C=1000000)\n",
    "model_mailing.fit(X_mailing_train, Y_mailing_train)\n",
    "\n",
    "# Get probabilities of being a (We saw this last class !!)\n",
    "probabilities = model_mailing.predict_proba(X_mailing_test)[:, 1]\n",
    "\n",
    "#print (model_mailing.predict_proba(X_mailing_test))\n"
   ]
  },
  {
   "cell_type": "markdown",
   "metadata": {},
   "source": [
    "Use the default threshold of 50% to predict a 1.\n",
    "\n",
    "(An individual below this threshold will get a label \"0\" and someone above this will get a label \"1\")"
   ]
  },
  {
   "cell_type": "code",
   "execution_count": 5,
   "metadata": {},
   "outputs": [
    {
     "name": "stdout",
     "output_type": "stream",
     "text": [
      "      p      n\n",
      "Y     0      1\n",
      "N  2478  45466\n"
     ]
    }
   ],
   "source": [
    "prediction = probabilities > 0.5\n",
    "\n",
    "# Build and print a confusion matrix\n",
    "confusion_matrix_large = pd.DataFrame(metrics.confusion_matrix(Y_mailing_test, prediction, labels=[1, 0]).T,\n",
    "                                columns=['p', 'n'], index=['Y', 'N'])\n",
    "print (confusion_matrix_large)"
   ]
  },
  {
   "cell_type": "markdown",
   "metadata": {},
   "source": [
    "Wait -- take a close look at that.  What's going on?\n",
    "\n",
    "Incidentally, what would be the classification accuracy?\n",
    "\n",
    "-\n",
    "\n",
    "-\n",
    "\n",
    "-\n",
    "\n",
    "-\n",
    "\n",
    "-\n"
   ]
  },
  {
   "cell_type": "markdown",
   "metadata": {},
   "source": [
    "What if we lower the threshold to 5%?"
   ]
  },
  {
   "cell_type": "code",
   "execution_count": 6,
   "metadata": {},
   "outputs": [
    {
     "name": "stdout",
     "output_type": "stream",
     "text": [
      "      p      n\n",
      "Y  1511  22050\n",
      "N   967  23417\n"
     ]
    }
   ],
   "source": [
    "# Let's move the threshold down\n",
    "prediction = probabilities > 0.05\n",
    "\n",
    "# Build and print a confusion matrix\n",
    "confusion_matrix_small = pd.DataFrame(metrics.confusion_matrix(Y_mailing_test, prediction, labels=[1, 0]).T,\n",
    "                                columns=['p', 'n'], index=['Y', 'N'])\n",
    "print (confusion_matrix_small)"
   ]
  },
  {
   "cell_type": "markdown",
   "metadata": {},
   "source": [
    "***\n",
    "Is this good performance? How can we tell?\n",
    "\n",
    "(Incidentally, what would be the classification accuracy now?)\n",
    "\n",
    "Is 0.05 the right threshold?  How would we determine that?\n",
    "***"
   ]
  },
  {
   "cell_type": "markdown",
   "metadata": {},
   "source": [
    "### Other measures: Receiver operating characteristic (ROC) curves\n",
    "\n",
    "In the book, we were trying to predict if customers should be given a credit card.  Let's use that example here now:\n",
    "\n",
    "- Target: `Y_handson = 1` \n",
    "- Three features in `X_handson`: \"earning\", \"geographic\", and \"experience\".\n",
    "\n",
    "Up until this point, when we need a \"single number metric\" for generalization performance, we have been using \"vanilla\" classification accuracy (the number of records correctly classified divided by the total number of records). However, this does not always give us the \"best\" interpretation of our model's performance for a particular business problem. An alternative way is to visualize and measure the performance of a model using the Reciever Operating Characteristic **(ROC) curve**. \n",
    "\n",
    "Let's first specify how we create them: For each threshold $t$ that is chosen, we can define two quantities. First, the false positive rate, $FPR = \\frac{False Positives}{False Positives+True Negatives}$, and second, the true positive rate, $TPR = \\frac{True Positives}{True Positives+False Negatives}$. The ROC curve is the result of plotting $FPR$ against $TPR$ for each value of $t$ that is possible in the data.  It helps us to visualize and analyze the trade-offs between the opportunity for benefits (via true positives) and the possibility of costs (via false positives). \n",
    "\n",
    "\" The lower left point **(0, 0) represents the strategy of never issuing a positive classification**; such a classifier commits no false positive errors but also gains no true positives. The opposite strategy, of unconditionally issuing positive classifications, is represented by the upper right point (1, 1). The point **(0, 1) represents perfect classification** (the star in Figure 8-3). The diagonal line connecting (0, 0) to (1, 1) represents the policy of guessing a class (for example, by flipping a weighted coin). \"  \n",
    "\n",
    "- _Provost, Foster, and Tom Fawcett. Data Science for Business: _\n",
    "  _What you need to know about data mining and data-analytic thinking. O'Reilly Media, Inc., 2013._\n",
    "\n",
    "\n",
    "\n",
    "<img src=\"dstools/ROC1.png\" alt=\"Drawing\" style=\"width: 600px;\"/>\n",
    "<img src=\"dstools/ROC2.png\" alt=\"Drawing\" style=\"width: 600px;\"/>\n",
    "<img src=\"dstools/ROC3.png\" alt=\"Drawing\" style=\"width: 600px;\"/>\n",
    "\n",
    "\n",
    "Doing this in **sklearn** is relatively straightforward.\n",
    "\n",
    "Let's create a **new DATA SET** for this, that will show differences between different models.  We will build logistic regression models with different regularization parameters."
   ]
  },
  {
   "cell_type": "code",
   "execution_count": 7,
   "metadata": {},
   "outputs": [],
   "source": [
    "\n",
    "X, Y = data_tools.handson_data()\n"
   ]
  },
  {
   "cell_type": "markdown",
   "metadata": {},
   "source": [
    "We can now build and fit a model. Using this model, we will plot a *ROC curve*. \n",
    "\n",
    "Why are we taking the mean from the `cross_validation.cross_val_score` output?"
   ]
  },
  {
   "cell_type": "code",
   "execution_count": 8,
   "metadata": {},
   "outputs": [
    {
     "name": "stderr",
     "output_type": "stream",
     "text": [
      "/usr/local/lib/python3.5/dist-packages/sklearn/model_selection/_split.py:2026: FutureWarning: From version 0.21, test_size will always complement train_size unless both are specified.\n",
      "  FutureWarning)\n"
     ]
    },
    {
     "data": {
      "text/plain": [
       "<matplotlib.legend.Legend at 0x7f38979f9eb8>"
      ]
     },
     "execution_count": 8,
     "metadata": {},
     "output_type": "execute_result"
    },
    {
     "data": {
      "image/png": "[encoded data removed]",
      "text/plain": [
       "<matplotlib.figure.Figure at 0x7f389b204f28>"
      ]
     },
     "metadata": {},
     "output_type": "display_data"
    }
   ],
   "source": [
    "\n",
    "#Split train and test\n",
    "X_train, X_test, Y_train, Y_test = train_test_split(X, Y, train_size=.8)\n",
    "\n",
    "# Fit a logistic regression model\n",
    "for c in [0.001, 0.01, 0.1, 1.0,10,100]:\n",
    "    model = LogisticRegression(C=c)\n",
    "    model.fit(X_train, Y_train)\n",
    "\n",
    "    # Get the probability of Y_test records being = 1\n",
    "    Y_test_probability_1 = model.predict_proba(X_test)[:, 1]\n",
    "\n",
    "    # Use the metrics.roc_curve function to get the true positive rate (tpr) and false positive rate (fpr)\n",
    "    fpr, tpr, thresholds = metrics.roc_curve(Y_test, Y_test_probability_1)\n",
    "    \n",
    "    # Get the area under the curve (AUC)\n",
    "    auc = np.mean(cross_val_score(model, X, Y, scoring=\"roc_auc\"))\n",
    "\n",
    "    # Plot the ROC curve\n",
    "    plt.plot(fpr, tpr, label=\"AUC (C=\" + str(c) + \") = \" + str(round(auc, 2)))\n",
    "    \n",
    "plt.xlabel(\"False positive rate (fpr)\")\n",
    "plt.ylabel(\"True positive rate (tpr)\")\n",
    "plt.plot([0,1], [0,1], 'k--', label=\"Random\")\n",
    "plt.legend(loc=2)\n"
   ]
  },
  {
   "cell_type": "markdown",
   "metadata": {},
   "source": [
    "### Other measures: Cumulative response and lift curves\n",
    "The interpretation of an ROC curve is not be entirely intuitive to business stakeholders. In many applications the **cumulative response curve** is more appropriate.  \n"
   ]
  },
  {
   "cell_type": "code",
   "execution_count": 9,
   "metadata": {},
   "outputs": [
    {
     "data": {
      "text/plain": [
       "<matplotlib.legend.Legend at 0x7f3897a10b00>"
      ]
     },
     "execution_count": 9,
     "metadata": {},
     "output_type": "execute_result"
    },
    {
     "data": {
      "image/png": "[encoded data removed]",
      "text/plain": [
       "<matplotlib.figure.Figure at 0x7f38979f92e8>"
      ]
     },
     "metadata": {},
     "output_type": "display_data"
    }
   ],
   "source": [
    "# Fit a logistic regression model\n",
    "model = LogisticRegression(C=1.0)\n",
    "model.fit(X_train, Y_train)\n",
    "\n",
    "# Get the predicted value and the probability of Y_test records being = 1\n",
    "Y_test_predicted = model.predict(X_test)\n",
    "Y_test_probability_1 = model.predict_proba(X_test)[:, 1]\n",
    "\n",
    "# Sort these predictions, probabilities, and the true value in descending order of probability\n",
    "order = np.argsort(Y_test_probability_1)[::-1]\n",
    "Y_test_predicted_sorted = Y_test_predicted[order]\n",
    "Y_test_probability_1_sorted = Y_test_probability_1[order]\n",
    "Y_test_sorted = np.array(Y_test)[order]\n",
    "\n",
    "# Go record-by-record and build the cumulative response curve\n",
    "x_cumulative = []\n",
    "y_cumulative = []\n",
    "total_test_positives = np.sum(Y_test)\n",
    "for i in range(1, len(Y_test_probability_1_sorted)+1):\n",
    "    x_cumulative.append(i)\n",
    "    y_cumulative.append(np.sum(Y_test_sorted[0:i]) / float(total_test_positives))\n",
    "\n",
    "# Rescale\n",
    "x_cumulative = np.array(x_cumulative)/float(np.max(x_cumulative)) * 100\n",
    "y_cumulative = np.array(y_cumulative) * 100\n",
    "\n",
    "# Plot\n",
    "plt.plot(x_cumulative, y_cumulative, label=\"Classifier\")\n",
    "plt.plot([0,100], [0,100], 'k--', label=\"Random\")\n",
    "plt.xlabel(\"Percentage of test instances targeted (decreasing score)\")\n",
    "plt.ylabel(\"Percentage of positives targeted\")\n",
    "plt.title(\"Cumulative response curve\")\n",
    "plt.legend()\n"
   ]
  },
  {
   "cell_type": "markdown",
   "metadata": {},
   "source": [
    "We can also easily plot a **lift curve** in this scenario."
   ]
  },
  {
   "cell_type": "code",
   "execution_count": 10,
   "metadata": {
    "scrolled": true
   },
   "outputs": [
    {
     "data": {
      "image/png": "[encoded data removed]",
      "text/plain": [
       "<matplotlib.figure.Figure at 0x7f3897a47400>"
      ]
     },
     "metadata": {},
     "output_type": "display_data"
    }
   ],
   "source": [
    "x_lift = x_cumulative\n",
    "y_lift = y_cumulative/x_lift\n",
    "\n",
    "plt.plot(x_lift, y_lift, label=\"Classifier\")\n",
    "plt.plot([0,100], [1,1], 'k--', label=\"Random\")\n",
    "plt.xlabel(\"Percentage of test instances (decreasing score)\")\n",
    "plt.ylabel(\"Lift (times)\")\n",
    "plt.title(\"Lift curve\")\n",
    "plt.legend()\n",
    "plt.show()"
   ]
  },
  {
   "cell_type": "markdown",
   "metadata": {},
   "source": [
    "Now ... Let's revisit our **mailing dataset** compare the cumulative response curves and then the lift curves of two models (a logistic regression model and a tree)."
   ]
  },
  {
   "cell_type": "code",
   "execution_count": 11,
   "metadata": {},
   "outputs": [
    {
     "data": {
      "image/png": "[encoded data removed]",
      "text/plain": [
       "<matplotlib.figure.Figure at 0x7f3897a907b8>"
      ]
     },
     "metadata": {},
     "output_type": "display_data"
    }
   ],
   "source": [
    "\n",
    "X_train, X_test, Y_train, Y_test = X_mailing_train, X_mailing_test, Y_mailing_train, Y_mailing_test\n",
    "\n",
    "\n",
    "# Keep track of all output with the name of the models\n",
    "xs = {}\n",
    "ys = {}\n",
    "model_types = [\"logistic_regression\", \"decision_tree\"]\n",
    "\n",
    "for model_type in model_types:\n",
    "    # Instantiate the model\n",
    "    if model_type == \"decision_tree\":\n",
    "        model = DecisionTreeClassifier(criterion=\"entropy\", max_depth=15)\n",
    "    elif model_type == \"logistic_regression\":\n",
    "        model = LogisticRegression(C=1000000)\n",
    "    model.fit(X_train, Y_train)\n",
    "\n",
    "    Y_test_predicted = model.predict(X_test)\n",
    "    Y_test_probability_1 = model.predict_proba(X_test)[:, 1]\n",
    "\n",
    "    fpr, tpr, thresholds = metrics.roc_curve(Y_test, Y_test_probability_1)\n",
    "    # How many users are above the current threshold?\n",
    "    n_targeted = []\n",
    "    for t in thresholds:\n",
    "        n_targeted.append(np.sum(Y_test_probability_1 >= t))\n",
    "\n",
    "    # Turn these counts to percentages of users above the threshold\n",
    "    n_targeted = np.array(n_targeted)/float(len(Y_test))\n",
    "\n",
    "    # Store\n",
    "    xs[model_type] = n_targeted * 100\n",
    "    ys[model_type] = tpr * 100\n",
    "    \n",
    "    plt.plot(n_targeted * 100, tpr * 100, label=model_type)# * np.sum(Y_test)/float(len(Y_test)))\n",
    "\n",
    "plt.plot([0,100], [0,100], 'k--', label=\"Random\")\n",
    "plt.xlabel(\"Percentage of test instances targeted (decreasing score)\")\n",
    "plt.ylabel(\"Percentage of positives targeted\")\n",
    "plt.title(\"Cumulative response curve\")\n",
    "plt.legend(loc=2)\n",
    "plt.show()"
   ]
  },
  {
   "cell_type": "code",
   "execution_count": 12,
   "metadata": {},
   "outputs": [
    {
     "name": "stderr",
     "output_type": "stream",
     "text": [
      "/usr/local/lib/python3.5/dist-packages/ipykernel_launcher.py:6: RuntimeWarning: invalid value encountered in true_divide\n",
      "  \n"
     ]
    },
    {
     "data": {
      "image/png": "[encoded data removed]",
      "text/plain": [
       "<matplotlib.figure.Figure at 0x7f3897a90470>"
      ]
     },
     "metadata": {},
     "output_type": "display_data"
    }
   ],
   "source": [
    "\n",
    "for model_type in model_types:    \n",
    "    # Previously computed: n_targeted * 100\n",
    "    x_lift = xs[model_type]\n",
    "    # Previously computed: tpr * 100\n",
    "    y_lift = ys[model_type]/x_lift\n",
    "    plt.plot(x_lift, y_lift, label=model_type)\n",
    "\n",
    "plt.plot([0,100], [1,1], 'k--', label=\"Random\")\n",
    "plt.xlabel(\"Percentage of test instances targeted (decreasing score)\")\n",
    "plt.ylabel(\"Lift (times)\")\n",
    "plt.title(\"Lift curve\")\n",
    "plt.legend()\n",
    "plt.ylim([.5,3])\n",
    "plt.show()"
   ]
  },
  {
   "cell_type": "markdown",
   "metadata": {},
   "source": [
    "***\n",
    "What if we want to understand not just lift, but how much benefit we are going to receive from a certain investment in targeting?  We can plot a profit curve.\n",
    "***"
   ]
  },
  {
   "cell_type": "markdown",
   "metadata": {},
   "source": [
    "### Profit curves\n",
    "Let's say that our profit margin is small: each offer costs \\$1 to make and market, and each accepted offer earns \\$18, for a profit of $17. The cost matrix would be:\n"
   ]
  },
  {
   "cell_type": "code",
   "execution_count": 13,
   "metadata": {},
   "outputs": [
    {
     "name": "stdout",
     "output_type": "stream",
     "text": [
      "Cost matrix\n",
      "    p  n\n",
      "Y  17 -1\n",
      "N   0  0\n"
     ]
    }
   ],
   "source": [
    "cost_matrix = pd.DataFrame([[17, -1], [0, 0]], columns=['p', 'n'], index=['Y', 'N'])\n",
    "print (\"Cost matrix\")\n",
    "print (cost_matrix)"
   ]
  },
  {
   "cell_type": "markdown",
   "metadata": {},
   "source": [
    "Remember that we examined different targeting thresholds: "
   ]
  },
  {
   "cell_type": "code",
   "execution_count": 14,
   "metadata": {},
   "outputs": [
    {
     "name": "stdout",
     "output_type": "stream",
     "text": [
      "Confusion matrix with threshold = 50% to predict labels\n",
      "      p      n\n",
      "Y     0      1\n",
      "N  2478  45466\n",
      "\n",
      "\n",
      "Confusion matrix with threshold = 5% to predict labels\n",
      "      p      n\n",
      "Y  1511  22050\n",
      "N   967  23417\n"
     ]
    }
   ],
   "source": [
    "print (\"Confusion matrix with threshold = 50% to predict labels\")\n",
    "print (confusion_matrix_large)\n",
    "print (\"\\n\")\n",
    "print (\"Confusion matrix with threshold = 5% to predict labels\")\n",
    "print (confusion_matrix_small)"
   ]
  },
  {
   "cell_type": "markdown",
   "metadata": {},
   "source": [
    "\n",
    "Based on those predictions, the expected profit of using 50% and 5% as your prediction threshold would be.\\"
   ]
  },
  {
   "cell_type": "code",
   "execution_count": 15,
   "metadata": {},
   "outputs": [
    {
     "name": "stdout",
     "output_type": "stream",
     "text": [
      "Expected profit per targeted individual with a cutoff of 50% is $-0.00.\n",
      "Expected profit per targeted individual with a cutoff of 5% is $0.08.\n"
     ]
    }
   ],
   "source": [
    "\n",
    "print (\"Expected profit per targeted individual with a cutoff of 50%% is $%.2f.\" % np.sum(np.sum(confusion_matrix_large/float(len(Y_test)) * cost_matrix)))\n",
    "print (\"Expected profit per targeted individual with a cutoff of 5%% is $%.2f.\" % np.sum(np.sum(confusion_matrix_small/float(len(Y_test)) * cost_matrix)))\n"
   ]
  },
  {
   "cell_type": "code",
   "execution_count": 16,
   "metadata": {},
   "outputs": [
    {
     "data": {
      "text/plain": [
       "Text(0.5,1,'Profits')"
      ]
     },
     "execution_count": 16,
     "metadata": {},
     "output_type": "execute_result"
    },
    {
     "data": {
      "image/png": "[encoded data removed]",
      "text/plain": [
       "<matplotlib.figure.Figure at 0x7f38979736d8>"
      ]
     },
     "metadata": {},
     "output_type": "display_data"
    }
   ],
   "source": [
    "\n",
    "X_train, X_test, Y_train, Y_test = X_mailing_train, X_mailing_test, Y_mailing_train, Y_mailing_test\n",
    "\n",
    "# Make and fit a model on the training data\n",
    "model = model_mailing\n",
    "\n",
    "# Get the false positive rate, true positive rate, and all thresholds\n",
    "fpr, tpr, thresholds = metrics.roc_curve(Y_test, model.predict_proba(X_test)[:,1])\n",
    "Size_targeted_pop = float(len(Y_test))\n",
    "\n",
    "# What is the baseline probability of being positive or negative in the data set?\n",
    "p_p = np.sum(Y_test)/float(len(Y_test))\n",
    "p_n = 1 - np.sum(Y_test)/float(len(Y_test))\n",
    "\n",
    "Y_test_predicted = model.predict(X_test)\n",
    "Y_test_probability_1 = model.predict_proba(X_test)[:, 1]\n",
    "\n",
    "# How many users are above the current threshold?\n",
    "n_targeted = []\n",
    "for t in thresholds:\n",
    "    n_targeted.append(np.sum(Y_test_probability_1 >= t))\n",
    "\n",
    "# Turn these counts to percentages of users above the threshold\n",
    "n_targeted = np.array(n_targeted)/float(len(Y_test))\n",
    "\n",
    "# Expected profits:  \n",
    "expected_profits = (cost_matrix['p']['Y']*(tpr*p_p)) + (cost_matrix['n']['Y']*(fpr*p_n))\n",
    "\n",
    "# Plot the profit curve\n",
    "plt.plot(n_targeted, Size_targeted_pop*expected_profits)\n",
    "plt.xlabel(\"Percentage of users targeted\")\n",
    "plt.ylabel(\"Profit\")\n",
    "plt.title(\"Profits\")\n"
   ]
  },
  {
   "cell_type": "code",
   "execution_count": null,
   "metadata": {},
   "outputs": [],
   "source": []
  }
 ],
 "metadata": {
  "kernelspec": {
   "display_name": "Python 3",
   "language": "python",
   "name": "python3"
  },
  "language_info": {
   "codemirror_mode": {
    "name": "ipython",
    "version": 3
   },
   "file_extension": ".py",
   "mimetype": "text/x-python",
   "name": "python",
   "nbconvert_exporter": "python",
   "pygments_lexer": "ipython3",
   "version": "3.5.2"
  }
 },
 "nbformat": 4,
 "nbformat_minor": 1
}
